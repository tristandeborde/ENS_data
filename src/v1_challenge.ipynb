{
 "cells": [
  {
   "cell_type": "markdown",
   "metadata": {},
   "source": [
    "# Introduction"
   ]
  },
  {
   "cell_type": "code",
   "execution_count": 72,
   "metadata": {
    "scrolled": true
   },
   "outputs": [],
   "source": [
    "import os\n",
    "import sys\n",
    "import datetime\n",
    "import pandas as pd\n",
    "import keras\n",
    "import numpy as np\n",
    "import matplotlib.pyplot as plt\n",
    "\n",
    "from tsfresh import extract_features\n",
    "from keras.models import Model\n",
    "from keras.layers import Dense\n",
    "from keras.layers import Input, Activation, Dense, concatenate, LSTM, GRU\n",
    "from sklearn import metrics\n",
    "from sklearn.svm import SVC"
   ]
  },
  {
   "cell_type": "markdown",
   "metadata": {},
   "source": [
    "# Data Importation"
   ]
  },
  {
   "cell_type": "code",
   "execution_count": 12,
   "metadata": {},
   "outputs": [],
   "source": [
    "dfx = pd.read_csv('../data/x_train.csv').set_index('ID')\n",
    "dfy = pd.read_csv('../data/y_train.csv').set_index('ID')\n",
    "dfx_test = pd.read_csv('../data/x_test.csv').set_index('ID')"
   ]
  },
  {
   "cell_type": "code",
   "execution_count": 13,
   "metadata": {},
   "outputs": [
    {
     "data": {
      "text/html": [
       "<div>\n",
       "<style scoped>\n",
       "    .dataframe tbody tr th:only-of-type {\n",
       "        vertical-align: middle;\n",
       "    }\n",
       "\n",
       "    .dataframe tbody tr th {\n",
       "        vertical-align: top;\n",
       "    }\n",
       "\n",
       "    .dataframe thead th {\n",
       "        text-align: right;\n",
       "    }\n",
       "</style>\n",
       "<table border=\"1\" class=\"dataframe\">\n",
       "  <thead>\n",
       "    <tr style=\"text-align: right;\">\n",
       "      <th></th>\n",
       "      <th>neuron_id</th>\n",
       "      <th>timestamp_0</th>\n",
       "      <th>timestamp_1</th>\n",
       "      <th>timestamp_2</th>\n",
       "      <th>timestamp_3</th>\n",
       "      <th>timestamp_4</th>\n",
       "      <th>timestamp_5</th>\n",
       "      <th>timestamp_6</th>\n",
       "      <th>timestamp_7</th>\n",
       "      <th>timestamp_8</th>\n",
       "      <th>...</th>\n",
       "      <th>timestamp_40</th>\n",
       "      <th>timestamp_41</th>\n",
       "      <th>timestamp_42</th>\n",
       "      <th>timestamp_43</th>\n",
       "      <th>timestamp_44</th>\n",
       "      <th>timestamp_45</th>\n",
       "      <th>timestamp_46</th>\n",
       "      <th>timestamp_47</th>\n",
       "      <th>timestamp_48</th>\n",
       "      <th>timestamp_49</th>\n",
       "    </tr>\n",
       "    <tr>\n",
       "      <th>ID</th>\n",
       "      <th></th>\n",
       "      <th></th>\n",
       "      <th></th>\n",
       "      <th></th>\n",
       "      <th></th>\n",
       "      <th></th>\n",
       "      <th></th>\n",
       "      <th></th>\n",
       "      <th></th>\n",
       "      <th></th>\n",
       "      <th></th>\n",
       "      <th></th>\n",
       "      <th></th>\n",
       "      <th></th>\n",
       "      <th></th>\n",
       "      <th></th>\n",
       "      <th></th>\n",
       "      <th></th>\n",
       "      <th></th>\n",
       "      <th></th>\n",
       "      <th></th>\n",
       "    </tr>\n",
       "  </thead>\n",
       "  <tbody>\n",
       "    <tr>\n",
       "      <th>28599</th>\n",
       "      <td>9456</td>\n",
       "      <td>1.501446</td>\n",
       "      <td>1.935893</td>\n",
       "      <td>2.100466</td>\n",
       "      <td>2.144410</td>\n",
       "      <td>2.259503</td>\n",
       "      <td>2.269867</td>\n",
       "      <td>2.292989</td>\n",
       "      <td>2.346420</td>\n",
       "      <td>2.724702</td>\n",
       "      <td>...</td>\n",
       "      <td>20.970412</td>\n",
       "      <td>20.984293</td>\n",
       "      <td>20.997030</td>\n",
       "      <td>21.016212</td>\n",
       "      <td>21.039446</td>\n",
       "      <td>21.044450</td>\n",
       "      <td>21.277555</td>\n",
       "      <td>21.723172</td>\n",
       "      <td>22.037007</td>\n",
       "      <td>22.061580</td>\n",
       "    </tr>\n",
       "    <tr>\n",
       "      <th>28600</th>\n",
       "      <td>10064</td>\n",
       "      <td>0.059309</td>\n",
       "      <td>0.116247</td>\n",
       "      <td>0.163038</td>\n",
       "      <td>0.262012</td>\n",
       "      <td>0.301379</td>\n",
       "      <td>1.813054</td>\n",
       "      <td>2.068066</td>\n",
       "      <td>2.168285</td>\n",
       "      <td>2.232430</td>\n",
       "      <td>...</td>\n",
       "      <td>21.518761</td>\n",
       "      <td>22.137357</td>\n",
       "      <td>22.504569</td>\n",
       "      <td>23.102718</td>\n",
       "      <td>23.155953</td>\n",
       "      <td>23.254136</td>\n",
       "      <td>23.302653</td>\n",
       "      <td>23.480564</td>\n",
       "      <td>23.539625</td>\n",
       "      <td>23.585673</td>\n",
       "    </tr>\n",
       "    <tr>\n",
       "      <th>28601</th>\n",
       "      <td>10045</td>\n",
       "      <td>0.563164</td>\n",
       "      <td>1.563625</td>\n",
       "      <td>1.677879</td>\n",
       "      <td>1.881264</td>\n",
       "      <td>2.583920</td>\n",
       "      <td>2.948714</td>\n",
       "      <td>3.112856</td>\n",
       "      <td>3.299712</td>\n",
       "      <td>6.040656</td>\n",
       "      <td>...</td>\n",
       "      <td>22.736962</td>\n",
       "      <td>22.842219</td>\n",
       "      <td>22.905865</td>\n",
       "      <td>22.971377</td>\n",
       "      <td>22.982869</td>\n",
       "      <td>23.614314</td>\n",
       "      <td>23.650248</td>\n",
       "      <td>23.807894</td>\n",
       "      <td>24.425525</td>\n",
       "      <td>25.271358</td>\n",
       "    </tr>\n",
       "    <tr>\n",
       "      <th>28602</th>\n",
       "      <td>9570</td>\n",
       "      <td>1.052182</td>\n",
       "      <td>1.066127</td>\n",
       "      <td>1.805688</td>\n",
       "      <td>1.824387</td>\n",
       "      <td>1.864275</td>\n",
       "      <td>2.420648</td>\n",
       "      <td>2.431845</td>\n",
       "      <td>2.757334</td>\n",
       "      <td>3.235232</td>\n",
       "      <td>...</td>\n",
       "      <td>35.510581</td>\n",
       "      <td>35.700678</td>\n",
       "      <td>37.062503</td>\n",
       "      <td>37.789828</td>\n",
       "      <td>38.569837</td>\n",
       "      <td>39.213227</td>\n",
       "      <td>41.504263</td>\n",
       "      <td>41.963118</td>\n",
       "      <td>41.983141</td>\n",
       "      <td>42.038623</td>\n",
       "    </tr>\n",
       "    <tr>\n",
       "      <th>28603</th>\n",
       "      <td>9836</td>\n",
       "      <td>0.004843</td>\n",
       "      <td>0.026412</td>\n",
       "      <td>0.033590</td>\n",
       "      <td>0.307083</td>\n",
       "      <td>0.311297</td>\n",
       "      <td>0.426553</td>\n",
       "      <td>0.449229</td>\n",
       "      <td>0.453311</td>\n",
       "      <td>1.199124</td>\n",
       "      <td>...</td>\n",
       "      <td>17.048710</td>\n",
       "      <td>17.993623</td>\n",
       "      <td>18.675683</td>\n",
       "      <td>18.827421</td>\n",
       "      <td>18.847187</td>\n",
       "      <td>18.923304</td>\n",
       "      <td>18.929989</td>\n",
       "      <td>19.166302</td>\n",
       "      <td>19.362858</td>\n",
       "      <td>19.370905</td>\n",
       "    </tr>\n",
       "  </tbody>\n",
       "</table>\n",
       "<p>5 rows × 51 columns</p>\n",
       "</div>"
      ],
      "text/plain": [
       "       neuron_id  timestamp_0  timestamp_1  timestamp_2  timestamp_3  \\\n",
       "ID                                                                     \n",
       "28599       9456     1.501446     1.935893     2.100466     2.144410   \n",
       "28600      10064     0.059309     0.116247     0.163038     0.262012   \n",
       "28601      10045     0.563164     1.563625     1.677879     1.881264   \n",
       "28602       9570     1.052182     1.066127     1.805688     1.824387   \n",
       "28603       9836     0.004843     0.026412     0.033590     0.307083   \n",
       "\n",
       "       timestamp_4  timestamp_5  timestamp_6  timestamp_7  timestamp_8  \\\n",
       "ID                                                                       \n",
       "28599     2.259503     2.269867     2.292989     2.346420     2.724702   \n",
       "28600     0.301379     1.813054     2.068066     2.168285     2.232430   \n",
       "28601     2.583920     2.948714     3.112856     3.299712     6.040656   \n",
       "28602     1.864275     2.420648     2.431845     2.757334     3.235232   \n",
       "28603     0.311297     0.426553     0.449229     0.453311     1.199124   \n",
       "\n",
       "           ...       timestamp_40  timestamp_41  timestamp_42  timestamp_43  \\\n",
       "ID         ...                                                                \n",
       "28599      ...          20.970412     20.984293     20.997030     21.016212   \n",
       "28600      ...          21.518761     22.137357     22.504569     23.102718   \n",
       "28601      ...          22.736962     22.842219     22.905865     22.971377   \n",
       "28602      ...          35.510581     35.700678     37.062503     37.789828   \n",
       "28603      ...          17.048710     17.993623     18.675683     18.827421   \n",
       "\n",
       "       timestamp_44  timestamp_45  timestamp_46  timestamp_47  timestamp_48  \\\n",
       "ID                                                                            \n",
       "28599     21.039446     21.044450     21.277555     21.723172     22.037007   \n",
       "28600     23.155953     23.254136     23.302653     23.480564     23.539625   \n",
       "28601     22.982869     23.614314     23.650248     23.807894     24.425525   \n",
       "28602     38.569837     39.213227     41.504263     41.963118     41.983141   \n",
       "28603     18.847187     18.923304     18.929989     19.166302     19.362858   \n",
       "\n",
       "       timestamp_49  \n",
       "ID                   \n",
       "28599     22.061580  \n",
       "28600     23.585673  \n",
       "28601     25.271358  \n",
       "28602     42.038623  \n",
       "28603     19.370905  \n",
       "\n",
       "[5 rows x 51 columns]"
      ]
     },
     "execution_count": 13,
     "metadata": {},
     "output_type": "execute_result"
    }
   ],
   "source": [
    "dfy.head()\n",
    "dfx_test.tail()"
   ]
  },
  {
   "cell_type": "code",
   "execution_count": 14,
   "metadata": {},
   "outputs": [
    {
     "name": "stdout",
     "output_type": "stream",
     "text": [
      "Same number of samples, all good.\n"
     ]
    }
   ],
   "source": [
    "if dfy.shape[0] == dfx.shape[0]:\n",
    "    print(\"Same number of samples, all good.\")\n",
    "else:\n",
    "    print(\"Different number of samples, problem!\")"
   ]
  },
  {
   "cell_type": "markdown",
   "metadata": {},
   "source": [
    "# Data Exploration"
   ]
  },
  {
   "cell_type": "markdown",
   "metadata": {},
   "source": [
    "* **Sanity check:** diff etat1/etat2, neuron_id usefulness"
   ]
  },
  {
   "cell_type": "code",
   "execution_count": 15,
   "metadata": {},
   "outputs": [
    {
     "data": {
      "image/png": "[encoded data removed]",
      "text/plain": [
       "<Figure size 432x288 with 1 Axes>"
      ]
     },
     "metadata": {
      "needs_background": "light"
     },
     "output_type": "display_data"
    }
   ],
   "source": [
    "# Différence entre le nombre d'etats 1 et d'etats 0.\n",
    "dfy.TARGET.value_counts().plot(kind='bar')\n",
    "plt.show()"
   ]
  },
  {
   "cell_type": "code",
   "execution_count": 16,
   "metadata": {},
   "outputs": [
    {
     "name": "stdout",
     "output_type": "stream",
     "text": [
      "There are 1 neuron_ids in common between the train and test sets.\n"
     ]
    }
   ],
   "source": [
    "# Should we keep the neuron_id col ?\n",
    "xtest_uniques = dfx_test.neuron_id.unique()\n",
    "x_uniques = dfx.neuron_id.unique()\n",
    "diff = [x for x in x_uniques if x in xtest_uniques]\n",
    "print(\"There are {} neuron_ids in common between the train and test sets.\".format(len(diff)))"
   ]
  },
  {
   "cell_type": "markdown",
   "metadata": {},
   "source": [
    "* **Balance dataset:** Under-sample class2 to have same number of samples in both classes"
   ]
  },
  {
   "cell_type": "code",
   "execution_count": 17,
   "metadata": {},
   "outputs": [],
   "source": [
    "# SET SEED pour reproducibilité\n",
    "\n",
    "def undersample(X, y):\n",
    "    \"\"\" Return balanced training dataset obtained by undersampling class 2. \"\"\"\n",
    "    # Extract class2 indices from Y\n",
    "    y_class1_ix = np.where(y == 1)[0]\n",
    "    y_class2_ix = np.where(y == 0)[0]\n",
    "    \n",
    "    # Under-sample class2 to get balanced classes\n",
    "    y_class2_ix_undersampled = np.random.choice(y_class2_ix, len(y_class1_ix))\n",
    "\n",
    "    # Concatenate the undersampled_class2_array and the class1_array\n",
    "    balanced_ix = np.concatenate((y_class1_ix, y_class2_ix_undersampled), axis=0)\n",
    "    np.random.shuffle(balanced_ix)\n",
    "    \n",
    "    # Create X_train dataset (Keras will do the val split)\n",
    "    X_train = X[balanced_ix]\n",
    "    y_train = y[balanced_ix]\n",
    "    \n",
    "    \"\"\" DEPRECATED:\n",
    "    # Create **UNOFFICIAL** X_test containing only 0s.\n",
    "    balanced_ix_test = np.in1d(range(X.shape[0]), balanced_ix)\n",
    "    X_test = X[~balanced_ix_test]\n",
    "    y_test = y[~balanced_ix_test]\"\"\"\n",
    "    \n",
    "    return X_train, y_train"
   ]
  },
  {
   "cell_type": "markdown",
   "metadata": {},
   "source": [
    "* **Extract features:** Use tsfresh to perform feature engineering"
   ]
  },
  {
   "cell_type": "code",
   "execution_count": 18,
   "metadata": {},
   "outputs": [],
   "source": [
    "# WIP !\n",
    "def extract_tsfresh(dfx):\n",
    "    dfx = pd.DataFrame(dfx.stack(), columns=['spike_time']).reset_index()\n",
    "    extracted_features = extract_features(dfx, column_id=\"ID\", column_value=\"spike_time\", column_sort=\"level_1\")\n",
    "    dfx = dfx.pivot(index='ID', columns='level_1', values='spike_time')\n",
    "    dfx.columns = [int(col[col.find('_') + 1:]) for col in dfx.columns]\n",
    "    dfx = dfx.sort_index(axis=1).join(extracted_features)\n",
    "    dfx = dfx.dropna(axis='columns')\n",
    "    fname = \"../data/features{}.csv\".format(datetime.datetime.now().strftime(\"%m%d%H%M%S\"))\n",
    "    dfx.to_csv(fname, sep=',')\n",
    "    return dfx"
   ]
  },
  {
   "cell_type": "code",
   "execution_count": 19,
   "metadata": {},
   "outputs": [],
   "source": [
    "def get_save(fn):\n",
    "    save = pd.read_csv(fn)\n",
    "    save = save.dropna(axis='columns').set_index('ID')\n",
    "    return save"
   ]
  },
  {
   "cell_type": "code",
   "execution_count": 63,
   "metadata": {},
   "outputs": [],
   "source": [
    "def isolate_features(X):\n",
    "    ts_arr = X[:,:50]\n",
    "    fe_arr = X[:,50:]\n",
    "    fe_arr = np.reshape(fe_arr, fe_arr.shape[:-1])\n",
    "    \"\"\"\n",
    "    Obsolete: repeat engineered features for each 50 timestep of a sample\n",
    "    X = np.concatenate((np.repeat(features_arr.transpose(0,2,1), 50, axis=1), nofeat_arr), axis=2)\n",
    "    !!! Will kill 42's mac !!!\n",
    "    \"\"\"\n",
    "    return ts_arr, fe_arr"
   ]
  },
  {
   "cell_type": "code",
   "execution_count": 46,
   "metadata": {},
   "outputs": [],
   "source": [
    "def drop_unique_col(df):\n",
    "    for col in df.columns:\n",
    "        if len(df[col].unique()) == 1:\n",
    "            df.drop(col,inplace=True,axis=1)"
   ]
  },
  {
   "cell_type": "markdown",
   "metadata": {},
   "source": [
    "* **Standardization:** Scale features"
   ]
  },
  {
   "cell_type": "code",
   "execution_count": 58,
   "metadata": {},
   "outputs": [],
   "source": [
    "def standardize_data(X):\n",
    "    \"\"\"Simple standardization that accepts both a single arr, AND 2 arrays in case of RNN+FeatureEngineering\"\"\"\n",
    "    def standardize(X):\n",
    "        X -= np.mean(X, axis=0)\n",
    "        X /= (np.std(X, axis=0) + sys.float_info.epsilon)\n",
    "        X = np.nan_to_num(X)\n",
    "        return X\n",
    "\n",
    "    if len(X) > 1:\n",
    "        X = (X[0], standardize(X[1]))\n",
    "    else:\n",
    "        X = standardize(X)\n",
    "    return X"
   ]
  },
  {
   "cell_type": "markdown",
   "metadata": {},
   "source": [
    "* **Create Xtrain ytrain:** numpy array from df, with dimensions *(sample_nb, timestep_nb, feature_nb)*"
   ]
  },
  {
   "cell_type": "code",
   "execution_count": 94,
   "metadata": {},
   "outputs": [],
   "source": [
    "def getData(dfx, dfy, \n",
    "            exclude_neuron_id=True, \n",
    "            balancing=\"undersample\",\n",
    "            standardize=False,\n",
    "            differencing=False,\n",
    "            get_tsfresh=False,\n",
    "            get_ISI_SPIKE=False,\n",
    "            testing=False,\n",
    "            RNN=True,\n",
    "            **extras):    \n",
    "   \n",
    "    fe_arr = 0\n",
    "    if isinstance(dfx, str) and get_tsfresh:\n",
    "        dfx = get_save(dfx)\n",
    "        drop_unique_col(dfx)\n",
    "    else:\n",
    "        if exclude_neuron_id:\n",
    "            # X: Exclude neuron_id column from array\n",
    "            dfx = dfx.drop(columns=['neuron_id'])\n",
    "        if get_tsfresh:\n",
    "            dfx = extract_tsfresh(dfx)\n",
    "    \n",
    "    X = dfx.values\n",
    "    \n",
    "    X = X[..., np.newaxis]\n",
    "    y = np.reshape(dfy.values, (dfy.values.shape[0],))\n",
    "       \n",
    "    if balancing == \"undersample\" and not testing:\n",
    "        X, y = undersample(X, y)\n",
    "        \n",
    "    # Convert from timeseries to interval\n",
    "    if differencing:\n",
    "        X[:,1:50] -= X[:,:49]\n",
    " \n",
    "    if get_ISI_SPIKE:\n",
    "        pass\n",
    "    \n",
    "    if get_tsfresh:\n",
    "        X = isolate_features(X)\n",
    "#    elif get_tsfresh:\n",
    "#        X = np.reshape(X, X.shape[:2])\n",
    "        \n",
    "    if standardize:\n",
    "        X = standardize_data(X)\n",
    "      \n",
    "    return X, y"
   ]
  },
  {
   "cell_type": "markdown",
   "metadata": {},
   "source": [
    "* **Deprecated:** Concatenate neuron_id to every timestep of a sample "
   ]
  },
  {
   "cell_type": "code",
   "execution_count": 49,
   "metadata": {},
   "outputs": [
    {
     "data": {
      "text/plain": [
       "'\\ntimesteps_arr = dfx.iloc[:,1:].values\\ntimesteps_arr = timesteps_arr[..., np.newaxis]\\ntimesteps_arr.shape\\n\\nneuron_arr = dfx.iloc[:,0].values\\nneuron_arr.shape\\n\\nneuron_arr = np.broadcast_to(neuron_arr[:,None,None], timesteps_arr.shape)\\nfinal_arr = np.concatenate((timesteps_arr,neuron_arr), axis=2)\\nfinal_arr.shape\\n'"
      ]
     },
     "execution_count": 49,
     "metadata": {},
     "output_type": "execute_result"
    }
   ],
   "source": [
    "# TODO : Make a 3d numpy array from our pandas df\n",
    "# Shape = [samples, timestamps, features]\n",
    "\"\"\"\n",
    "timesteps_arr = dfx.iloc[:,1:].values\n",
    "timesteps_arr = timesteps_arr[..., np.newaxis]\n",
    "timesteps_arr.shape\n",
    "\n",
    "neuron_arr = dfx.iloc[:,0].values\n",
    "neuron_arr.shape\n",
    "\n",
    "neuron_arr = np.broadcast_to(neuron_arr[:,None,None], timesteps_arr.shape)\n",
    "final_arr = np.concatenate((timesteps_arr,neuron_arr), axis=2)\n",
    "final_arr.shape\n",
    "\"\"\""
   ]
  },
  {
   "cell_type": "markdown",
   "metadata": {},
   "source": [
    "# Model Training"
   ]
  },
  {
   "cell_type": "markdown",
   "metadata": {},
   "source": [
    "## References"
   ]
  },
  {
   "cell_type": "markdown",
   "metadata": {},
   "source": [
    "* Arxiv: [Neural activity classification with machine learning models trained oninterspike interval series data](https://arxiv.org/pdf/1810.03855.pdf) => PCA and KNN\n",
    "* Github: [PySpike: Python library to analyze spike Train](https://github.com/mariomulansky/PySpike) => Obscure mathematical measurements between spike trains\n",
    "* Profil: [Prof expert en spike train analysis](http://xtof.perso.math.cnrs.fr/)"
   ]
  },
  {
   "cell_type": "markdown",
   "metadata": {},
   "source": [
    "## Prepare experiment"
   ]
  },
  {
   "cell_type": "code",
   "execution_count": 95,
   "metadata": {},
   "outputs": [],
   "source": [
    "params = {\n",
    "    'name': \"RF_vanilla\",\n",
    "    'exclude_neuron_id': True,\n",
    "    'balancing': \"undersample\",\n",
    "    'standardize': True,\n",
    "    'differencing': True,\n",
    "    'get_tsfresh': True,\n",
    "    'get_ISI_SPIKE': False,\n",
    "    'RNN': False\n",
    "}"
   ]
  },
  {
   "cell_type": "code",
   "execution_count": 96,
   "metadata": {},
   "outputs": [],
   "source": [
    "if params['get_tsfresh']:\n",
    "    X_train, fe_arr_train, y_train = getData(\"../data/features0607182541.csv\", dfy, **params)\n",
    "    X_test, fe_arr_test, _ = getData(\"../data/features0607183651.csv\", dfy, testing=True, **params)\n",
    "    print(X_train.shape, fe_arr_train.shape)\n",
    "else:\n",
    "    X_train, y_train = getData(dfx, dfy, **params)\n",
    "    X_test, _ = getData(dfx_test, dfy, testing=True, **params)\n",
    "    print(X_train.shape, X_test.shape)"
   ]
  },
  {
   "cell_type": "code",
   "execution_count": 84,
   "metadata": {},
   "outputs": [],
   "source": [
    "def predict(X_test, model):\n",
    "    # Predict on custom X_test\n",
    "    y_pred = model.predict(X_test)\n",
    "    y_pred = np.reshape(y_pred, (y_pred.shape[0],))\n",
    "    print (y_pred.shape)\n",
    "    # Convert sigmoid output to 0s and 1s\n",
    "    y_pred[y_pred >= 0.5] = 1\n",
    "    y_pred[y_pred < 0.5] = 0\n",
    "  \n",
    "    # Format .csv in ENS style\n",
    "    dfy_pred = pd.DataFrame(data=y_pred, columns=[\"TARGET\"], dtype=int)\n",
    "    dfy_pred.index.name = \"ID\"\n",
    "    dfy_pred.index += 16635\n",
    "    return dfy_pred"
   ]
  },
  {
   "cell_type": "markdown",
   "metadata": {},
   "source": [
    "## Run training"
   ]
  },
  {
   "cell_type": "markdown",
   "metadata": {},
   "source": [
    "### Deep-Learning 1: blunt RNN"
   ]
  },
  {
   "cell_type": "markdown",
   "metadata": {},
   "source": [
    "* **Create and train model**"
   ]
  },
  {
   "cell_type": "code",
   "execution_count": 78,
   "metadata": {},
   "outputs": [
    {
     "name": "stdout",
     "output_type": "stream",
     "text": [
      "__________________________________________________________________________________________________\n",
      "Layer (type)                    Output Shape         Param #     Connected to                     \n",
      "==================================================================================================\n",
      "input_20 (InputLayer)           (None, 50, 1)        0                                            \n",
      "__________________________________________________________________________________________________\n",
      "input_21 (InputLayer)           (None, 382)          0                                            \n",
      "__________________________________________________________________________________________________\n",
      "lstm_11 (LSTM)                  (None, 128)          66560       input_20[0][0]                   \n",
      "__________________________________________________________________________________________________\n",
      "dense_14 (Dense)                (None, 32)           12256       input_21[0][0]                   \n",
      "__________________________________________________________________________________________________\n",
      "concatenate_5 (Concatenate)     (None, 160)          0           lstm_11[0][0]                    \n",
      "                                                                 dense_14[0][0]                   \n",
      "__________________________________________________________________________________________________\n",
      "dense_15 (Dense)                (None, 1)            161         concatenate_5[0][0]              \n",
      "==================================================================================================\n",
      "Total params: 78,977\n",
      "Trainable params: 78,977\n",
      "Non-trainable params: 0\n",
      "__________________________________________________________________________________________________\n"
     ]
    }
   ],
   "source": [
    "\"\"\"\n",
    "timestamp_nb = X_train.shape[1]\n",
    "feature_nb = X_train.shape[2]\n",
    "params['cell_nb'] = 128\n",
    "\n",
    "input_shape = (timestamp_nb, feature_nb)\n",
    "x = input_tensor = Input(input_shape)\n",
    "x = LSTM(params['cell_nb'], return_sequences=False)(x)\n",
    "x = output_tensor = Dense(1, activation='sigmoid')(x)\n",
    "model = Model(input_tensor, output_tensor)\n",
    "model.summary()\n",
    "\"\"\"\n",
    "\n",
    "timestep_nb = X_train.shape[1]\n",
    "spike_per_ts = 1\n",
    "params['cell_nb'] = 128\n",
    "\n",
    "input_tensor = Input(shape=(timestep_nb, spike_per_ts))\n",
    "X = LSTM(params['cell_nb'], return_sequences=False)(input_tensor)\n",
    "\n",
    "if params['get_tsfresh']:\n",
    "    additional_features = fe_arr_train.shape[1]\n",
    "    fe_input = Input(shape=(additional_features,)) # A tensor containing the engineered features\n",
    "    latent = Dense(32, activation='tanh')(fe_input)\n",
    "    input_tensor = [input_tensor, fe_input]\n",
    "    X = concatenate([X, latent])   \n",
    "    \n",
    "output_tensor = Dense(1, activation='sigmoid')(X)\n",
    "\n",
    "model = Model(input_tensor, output_tensor)\n",
    "model.summary()"
   ]
  },
  {
   "cell_type": "code",
   "execution_count": 80,
   "metadata": {},
   "outputs": [
    {
     "name": "stdout",
     "output_type": "stream",
     "text": [
      "Train on 5504 samples, validate on 612 samples\n",
      "Epoch 1/10\n",
      "5504/5504 [==============================] - 25s 5ms/step - loss: 0.2177 - acc: 0.6532 - val_loss: 0.2351 - val_acc: 0.6242\n",
      "Epoch 2/10\n",
      "5504/5504 [==============================] - 22s 4ms/step - loss: 0.2148 - acc: 0.6588 - val_loss: 0.2416 - val_acc: 0.6160\n",
      "Epoch 3/10\n",
      "5504/5504 [==============================] - 22s 4ms/step - loss: 0.2117 - acc: 0.6644 - val_loss: 0.2444 - val_acc: 0.5899\n",
      "Epoch 4/10\n",
      "5504/5504 [==============================] - 22s 4ms/step - loss: 0.2087 - acc: 0.6702 - val_loss: 0.2369 - val_acc: 0.6176\n",
      "Epoch 5/10\n",
      "5504/5504 [==============================] - 23s 4ms/step - loss: 0.2059 - acc: 0.6835 - val_loss: 0.2425 - val_acc: 0.5948\n",
      "Epoch 6/10\n",
      "5504/5504 [==============================] - 21s 4ms/step - loss: 0.2035 - acc: 0.6835 - val_loss: 0.2388 - val_acc: 0.6062\n",
      "Epoch 7/10\n",
      "5504/5504 [==============================] - 21s 4ms/step - loss: 0.2011 - acc: 0.6924 - val_loss: 0.2381 - val_acc: 0.6095\n",
      "Epoch 8/10\n",
      "5504/5504 [==============================] - 22s 4ms/step - loss: 0.1971 - acc: 0.7008 - val_loss: 0.2448 - val_acc: 0.6111\n",
      "Epoch 9/10\n",
      "5504/5504 [==============================] - 21s 4ms/step - loss: 0.1949 - acc: 0.7019 - val_loss: 0.2408 - val_acc: 0.5948\n",
      "Epoch 10/10\n",
      "5504/5504 [==============================] - 21s 4ms/step - loss: 0.1923 - acc: 0.7126 - val_loss: 0.2401 - val_acc: 0.6078\n"
     ]
    }
   ],
   "source": [
    "model.compile(metrics=['accuracy'], loss='mean_squared_error', optimizer='adam')\n",
    "history = model.fit([X_train, fe_arr_train], y_train, epochs=10, validation_split=0.1)"
   ]
  },
  {
   "cell_type": "code",
   "execution_count": 82,
   "metadata": {},
   "outputs": [],
   "source": [
    "history_params = [\n",
    "    ('batch_size', history.params['batch_size']),\n",
    "    ('epochs', history.params['epochs']),\n",
    "    ('samples', history.params['samples']),\n",
    "    ('val_acc', history.history['val_acc'][-1])\n",
    "    ]\n",
    "\n",
    "for param in history_params:\n",
    "    params[param[0]] = param[1]"
   ]
  },
  {
   "cell_type": "markdown",
   "metadata": {},
   "source": [
    "* **Predict**"
   ]
  },
  {
   "cell_type": "code",
   "execution_count": 85,
   "metadata": {
    "collapsed": true
   },
   "outputs": [
    {
     "name": "stdout",
     "output_type": "stream",
     "text": [
      "(11969,)\n"
     ]
    },
    {
     "data": {
      "text/html": [
       "<div>\n",
       "<style scoped>\n",
       "    .dataframe tbody tr th:only-of-type {\n",
       "        vertical-align: middle;\n",
       "    }\n",
       "\n",
       "    .dataframe tbody tr th {\n",
       "        vertical-align: top;\n",
       "    }\n",
       "\n",
       "    .dataframe thead th {\n",
       "        text-align: right;\n",
       "    }\n",
       "</style>\n",
       "<table border=\"1\" class=\"dataframe\">\n",
       "  <thead>\n",
       "    <tr style=\"text-align: right;\">\n",
       "      <th></th>\n",
       "      <th>TARGET</th>\n",
       "    </tr>\n",
       "    <tr>\n",
       "      <th>ID</th>\n",
       "      <th></th>\n",
       "    </tr>\n",
       "  </thead>\n",
       "  <tbody>\n",
       "    <tr>\n",
       "      <th>16635</th>\n",
       "      <td>1</td>\n",
       "    </tr>\n",
       "    <tr>\n",
       "      <th>16636</th>\n",
       "      <td>0</td>\n",
       "    </tr>\n",
       "    <tr>\n",
       "      <th>16637</th>\n",
       "      <td>0</td>\n",
       "    </tr>\n",
       "    <tr>\n",
       "      <th>16638</th>\n",
       "      <td>1</td>\n",
       "    </tr>\n",
       "    <tr>\n",
       "      <th>16639</th>\n",
       "      <td>1</td>\n",
       "    </tr>\n",
       "    <tr>\n",
       "      <th>16640</th>\n",
       "      <td>0</td>\n",
       "    </tr>\n",
       "    <tr>\n",
       "      <th>16641</th>\n",
       "      <td>1</td>\n",
       "    </tr>\n",
       "    <tr>\n",
       "      <th>16642</th>\n",
       "      <td>0</td>\n",
       "    </tr>\n",
       "    <tr>\n",
       "      <th>16643</th>\n",
       "      <td>0</td>\n",
       "    </tr>\n",
       "    <tr>\n",
       "      <th>16644</th>\n",
       "      <td>1</td>\n",
       "    </tr>\n",
       "    <tr>\n",
       "      <th>16645</th>\n",
       "      <td>1</td>\n",
       "    </tr>\n",
       "    <tr>\n",
       "      <th>16646</th>\n",
       "      <td>0</td>\n",
       "    </tr>\n",
       "    <tr>\n",
       "      <th>16647</th>\n",
       "      <td>0</td>\n",
       "    </tr>\n",
       "    <tr>\n",
       "      <th>16648</th>\n",
       "      <td>1</td>\n",
       "    </tr>\n",
       "    <tr>\n",
       "      <th>16649</th>\n",
       "      <td>1</td>\n",
       "    </tr>\n",
       "    <tr>\n",
       "      <th>16650</th>\n",
       "      <td>0</td>\n",
       "    </tr>\n",
       "    <tr>\n",
       "      <th>16651</th>\n",
       "      <td>1</td>\n",
       "    </tr>\n",
       "    <tr>\n",
       "      <th>16652</th>\n",
       "      <td>0</td>\n",
       "    </tr>\n",
       "    <tr>\n",
       "      <th>16653</th>\n",
       "      <td>1</td>\n",
       "    </tr>\n",
       "    <tr>\n",
       "      <th>16654</th>\n",
       "      <td>1</td>\n",
       "    </tr>\n",
       "    <tr>\n",
       "      <th>16655</th>\n",
       "      <td>0</td>\n",
       "    </tr>\n",
       "    <tr>\n",
       "      <th>16656</th>\n",
       "      <td>1</td>\n",
       "    </tr>\n",
       "    <tr>\n",
       "      <th>16657</th>\n",
       "      <td>1</td>\n",
       "    </tr>\n",
       "    <tr>\n",
       "      <th>16658</th>\n",
       "      <td>0</td>\n",
       "    </tr>\n",
       "    <tr>\n",
       "      <th>16659</th>\n",
       "      <td>0</td>\n",
       "    </tr>\n",
       "  </tbody>\n",
       "</table>\n",
       "</div>"
      ],
      "text/plain": [
       "       TARGET\n",
       "ID           \n",
       "16635       1\n",
       "16636       0\n",
       "16637       0\n",
       "16638       1\n",
       "16639       1\n",
       "16640       0\n",
       "16641       1\n",
       "16642       0\n",
       "16643       0\n",
       "16644       1\n",
       "16645       1\n",
       "16646       0\n",
       "16647       0\n",
       "16648       1\n",
       "16649       1\n",
       "16650       0\n",
       "16651       1\n",
       "16652       0\n",
       "16653       1\n",
       "16654       1\n",
       "16655       0\n",
       "16656       1\n",
       "16657       1\n",
       "16658       0\n",
       "16659       0"
      ]
     },
     "execution_count": 85,
     "metadata": {},
     "output_type": "execute_result"
    }
   ],
   "source": [
    "dfy_pred = predict([X_test, fe_arr_test], model)\n",
    "dfy_pred[:5]"
   ]
  },
  {
   "cell_type": "markdown",
   "metadata": {},
   "source": [
    "### Domain-knowledge 1: Benchmark = differencing + tsfresh feature engineering + random forest"
   ]
  },
  {
   "cell_type": "markdown",
   "metadata": {},
   "source": [
    "* **Train**"
   ]
  },
  {
   "cell_type": "code",
   "execution_count": 100,
   "metadata": {},
   "outputs": [],
   "source": [
    "clf = SVC(gamma='auto')\n",
    "clf.fit(fe_arr_train, y_train)\n",
    "params.update(clf.get_params())"
   ]
  },
  {
   "cell_type": "markdown",
   "metadata": {},
   "source": [
    "* **Predict**"
   ]
  },
  {
   "cell_type": "code",
   "execution_count": 101,
   "metadata": {},
   "outputs": [
    {
     "name": "stdout",
     "output_type": "stream",
     "text": [
      "(11969,)\n"
     ]
    }
   ],
   "source": [
    "dfy_pred = predict(fe_arr_test, clf)"
   ]
  },
  {
   "cell_type": "markdown",
   "metadata": {},
   "source": [
    "### Domain-knowledge 2: KNN with SPIKE- and ISI- synchronization distances"
   ]
  },
  {
   "cell_type": "markdown",
   "metadata": {},
   "source": [
    "## Save Results"
   ]
  },
  {
   "cell_type": "code",
   "execution_count": 102,
   "metadata": {},
   "outputs": [
    {
     "data": {
      "text/plain": [
       "'../experiments/0612180411'"
      ]
     },
     "execution_count": 102,
     "metadata": {},
     "output_type": "execute_result"
    }
   ],
   "source": [
    "def saveExp(dfy_pred, model, params):\n",
    "    \"\"\" Create directory in which to save predictions, experiment parameters and model object. \"\"\"\n",
    "\n",
    "    directory = \"../experiments/{}\".format(datetime.datetime.now().strftime(\"%m%d%H%M%S\"))\n",
    "    if not os.path.exists(directory):\n",
    "        os.makedirs(directory)\n",
    "\n",
    "    dfy_pred.to_csv(directory + '/y_pred.csv', sep=',')\n",
    "    \n",
    "    model.save(directory + '/model.h5')\n",
    "    \n",
    "    columns = []\n",
    "    values = []\n",
    "    for k, v in params.items():\n",
    "        columns.append(k)\n",
    "        values.append(v)\n",
    "    params_df = pd.DataFrame(data=[values], columns=columns)\n",
    "    params_df.to_csv(directory + '/params.csv', sep=';')\n",
    "    return directory\n",
    "\n",
    "# Save model\n",
    "saveExp(dfy_pred, model, params)"
   ]
  },
  {
   "cell_type": "code",
   "execution_count": null,
   "metadata": {},
   "outputs": [],
   "source": []
  }
 ],
 "metadata": {
  "kernelspec": {
   "display_name": "Python 3",
   "language": "python",
   "name": "python3"
  },
  "language_info": {
   "codemirror_mode": {
    "name": "ipython",
    "version": 3
   },
   "file_extension": ".py",
   "mimetype": "text/x-python",
   "name": "python",
   "nbconvert_exporter": "python",
   "pygments_lexer": "ipython3",
   "version": "3.7.3"
  }
 },
 "nbformat": 4,
 "nbformat_minor": 2
}
