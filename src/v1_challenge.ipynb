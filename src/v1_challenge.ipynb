{
 "cells": [
  {
   "cell_type": "markdown",
   "metadata": {},
   "source": [
    "# Introduction"
   ]
  },
  {
   "cell_type": "code",
   "execution_count": 127,
   "metadata": {},
   "outputs": [],
   "source": [
    "import pandas as pd\n",
    "import matplotlib.pyplot as plt\n",
    "import keras\n",
    "import numpy as np\n",
    "from keras.models import Model\n",
    "from keras.layers import Dense\n",
    "from keras.layers import Input, Activation, Dense, Dropout, Flatten, Lambda, LSTM, GRU\n",
    "from sklearn import metrics"
   ]
  },
  {
   "cell_type": "markdown",
   "metadata": {},
   "source": [
    "# Data Importation"
   ]
  },
  {
   "cell_type": "code",
   "execution_count": 108,
   "metadata": {},
   "outputs": [],
   "source": [
    "dfx = pd.read_csv('../data/x_train.csv').set_index('ID')\n",
    "dfy = pd.read_csv('../data/y_train.csv').set_index('ID')\n",
    "dfx_test = pd.read_csv('../data/x_test.csv').set_index('ID')"
   ]
  },
  {
   "cell_type": "code",
   "execution_count": 109,
   "metadata": {},
   "outputs": [
    {
     "data": {
      "text/html": [
       "<div>\n",
       "<style scoped>\n",
       "    .dataframe tbody tr th:only-of-type {\n",
       "        vertical-align: middle;\n",
       "    }\n",
       "\n",
       "    .dataframe tbody tr th {\n",
       "        vertical-align: top;\n",
       "    }\n",
       "\n",
       "    .dataframe thead th {\n",
       "        text-align: right;\n",
       "    }\n",
       "</style>\n",
       "<table border=\"1\" class=\"dataframe\">\n",
       "  <thead>\n",
       "    <tr style=\"text-align: right;\">\n",
       "      <th></th>\n",
       "      <th>neuron_id</th>\n",
       "      <th>timestamp_0</th>\n",
       "      <th>timestamp_1</th>\n",
       "      <th>timestamp_2</th>\n",
       "      <th>timestamp_3</th>\n",
       "      <th>timestamp_4</th>\n",
       "      <th>timestamp_5</th>\n",
       "      <th>timestamp_6</th>\n",
       "      <th>timestamp_7</th>\n",
       "      <th>timestamp_8</th>\n",
       "      <th>...</th>\n",
       "      <th>timestamp_40</th>\n",
       "      <th>timestamp_41</th>\n",
       "      <th>timestamp_42</th>\n",
       "      <th>timestamp_43</th>\n",
       "      <th>timestamp_44</th>\n",
       "      <th>timestamp_45</th>\n",
       "      <th>timestamp_46</th>\n",
       "      <th>timestamp_47</th>\n",
       "      <th>timestamp_48</th>\n",
       "      <th>timestamp_49</th>\n",
       "    </tr>\n",
       "    <tr>\n",
       "      <th>ID</th>\n",
       "      <th></th>\n",
       "      <th></th>\n",
       "      <th></th>\n",
       "      <th></th>\n",
       "      <th></th>\n",
       "      <th></th>\n",
       "      <th></th>\n",
       "      <th></th>\n",
       "      <th></th>\n",
       "      <th></th>\n",
       "      <th></th>\n",
       "      <th></th>\n",
       "      <th></th>\n",
       "      <th></th>\n",
       "      <th></th>\n",
       "      <th></th>\n",
       "      <th></th>\n",
       "      <th></th>\n",
       "      <th></th>\n",
       "      <th></th>\n",
       "      <th></th>\n",
       "    </tr>\n",
       "  </thead>\n",
       "  <tbody>\n",
       "    <tr>\n",
       "      <th>0</th>\n",
       "      <td>53</td>\n",
       "      <td>0.166262</td>\n",
       "      <td>0.170520</td>\n",
       "      <td>0.176371</td>\n",
       "      <td>0.197565</td>\n",
       "      <td>0.212814</td>\n",
       "      <td>0.957631</td>\n",
       "      <td>1.177679</td>\n",
       "      <td>3.207268</td>\n",
       "      <td>3.213602</td>\n",
       "      <td>...</td>\n",
       "      <td>14.700766</td>\n",
       "      <td>15.856531</td>\n",
       "      <td>15.906414</td>\n",
       "      <td>15.910547</td>\n",
       "      <td>16.079702</td>\n",
       "      <td>16.516175</td>\n",
       "      <td>16.988851</td>\n",
       "      <td>16.996101</td>\n",
       "      <td>17.019988</td>\n",
       "      <td>17.056403</td>\n",
       "    </tr>\n",
       "    <tr>\n",
       "      <th>1</th>\n",
       "      <td>7229</td>\n",
       "      <td>0.053270</td>\n",
       "      <td>0.133652</td>\n",
       "      <td>0.161603</td>\n",
       "      <td>0.530531</td>\n",
       "      <td>0.692537</td>\n",
       "      <td>0.730291</td>\n",
       "      <td>0.784066</td>\n",
       "      <td>1.023311</td>\n",
       "      <td>1.059203</td>\n",
       "      <td>...</td>\n",
       "      <td>10.420048</td>\n",
       "      <td>11.577627</td>\n",
       "      <td>18.070029</td>\n",
       "      <td>18.825891</td>\n",
       "      <td>19.248378</td>\n",
       "      <td>19.539560</td>\n",
       "      <td>19.723312</td>\n",
       "      <td>19.978294</td>\n",
       "      <td>20.052356</td>\n",
       "      <td>20.123709</td>\n",
       "    </tr>\n",
       "    <tr>\n",
       "      <th>2</th>\n",
       "      <td>7770</td>\n",
       "      <td>0.600593</td>\n",
       "      <td>1.127467</td>\n",
       "      <td>1.289813</td>\n",
       "      <td>2.598660</td>\n",
       "      <td>3.826711</td>\n",
       "      <td>4.851020</td>\n",
       "      <td>5.025722</td>\n",
       "      <td>5.262254</td>\n",
       "      <td>5.282915</td>\n",
       "      <td>...</td>\n",
       "      <td>24.635121</td>\n",
       "      <td>25.967167</td>\n",
       "      <td>26.270768</td>\n",
       "      <td>28.028523</td>\n",
       "      <td>29.584844</td>\n",
       "      <td>31.183257</td>\n",
       "      <td>31.218086</td>\n",
       "      <td>31.285777</td>\n",
       "      <td>33.160938</td>\n",
       "      <td>33.360947</td>\n",
       "    </tr>\n",
       "    <tr>\n",
       "      <th>3</th>\n",
       "      <td>7002</td>\n",
       "      <td>0.136037</td>\n",
       "      <td>0.655734</td>\n",
       "      <td>0.992514</td>\n",
       "      <td>1.490964</td>\n",
       "      <td>2.246825</td>\n",
       "      <td>2.855319</td>\n",
       "      <td>3.208054</td>\n",
       "      <td>3.325092</td>\n",
       "      <td>4.202108</td>\n",
       "      <td>...</td>\n",
       "      <td>13.473805</td>\n",
       "      <td>13.688518</td>\n",
       "      <td>14.028203</td>\n",
       "      <td>14.178543</td>\n",
       "      <td>14.783635</td>\n",
       "      <td>15.151632</td>\n",
       "      <td>16.003356</td>\n",
       "      <td>16.282885</td>\n",
       "      <td>17.249543</td>\n",
       "      <td>17.259610</td>\n",
       "    </tr>\n",
       "    <tr>\n",
       "      <th>4</th>\n",
       "      <td>7678</td>\n",
       "      <td>0.200614</td>\n",
       "      <td>0.257171</td>\n",
       "      <td>0.288137</td>\n",
       "      <td>0.314078</td>\n",
       "      <td>0.486903</td>\n",
       "      <td>0.499591</td>\n",
       "      <td>0.534961</td>\n",
       "      <td>0.623986</td>\n",
       "      <td>0.639313</td>\n",
       "      <td>...</td>\n",
       "      <td>11.298341</td>\n",
       "      <td>12.214740</td>\n",
       "      <td>13.072630</td>\n",
       "      <td>13.952573</td>\n",
       "      <td>14.013957</td>\n",
       "      <td>14.476091</td>\n",
       "      <td>14.724149</td>\n",
       "      <td>16.883795</td>\n",
       "      <td>17.052340</td>\n",
       "      <td>19.289922</td>\n",
       "    </tr>\n",
       "  </tbody>\n",
       "</table>\n",
       "<p>5 rows × 51 columns</p>\n",
       "</div>"
      ],
      "text/plain": [
       "    neuron_id  timestamp_0  timestamp_1  timestamp_2  timestamp_3  \\\n",
       "ID                                                                  \n",
       "0          53     0.166262     0.170520     0.176371     0.197565   \n",
       "1        7229     0.053270     0.133652     0.161603     0.530531   \n",
       "2        7770     0.600593     1.127467     1.289813     2.598660   \n",
       "3        7002     0.136037     0.655734     0.992514     1.490964   \n",
       "4        7678     0.200614     0.257171     0.288137     0.314078   \n",
       "\n",
       "    timestamp_4  timestamp_5  timestamp_6  timestamp_7  timestamp_8  ...  \\\n",
       "ID                                                                   ...   \n",
       "0      0.212814     0.957631     1.177679     3.207268     3.213602  ...   \n",
       "1      0.692537     0.730291     0.784066     1.023311     1.059203  ...   \n",
       "2      3.826711     4.851020     5.025722     5.262254     5.282915  ...   \n",
       "3      2.246825     2.855319     3.208054     3.325092     4.202108  ...   \n",
       "4      0.486903     0.499591     0.534961     0.623986     0.639313  ...   \n",
       "\n",
       "    timestamp_40  timestamp_41  timestamp_42  timestamp_43  timestamp_44  \\\n",
       "ID                                                                         \n",
       "0      14.700766     15.856531     15.906414     15.910547     16.079702   \n",
       "1      10.420048     11.577627     18.070029     18.825891     19.248378   \n",
       "2      24.635121     25.967167     26.270768     28.028523     29.584844   \n",
       "3      13.473805     13.688518     14.028203     14.178543     14.783635   \n",
       "4      11.298341     12.214740     13.072630     13.952573     14.013957   \n",
       "\n",
       "    timestamp_45  timestamp_46  timestamp_47  timestamp_48  timestamp_49  \n",
       "ID                                                                        \n",
       "0      16.516175     16.988851     16.996101     17.019988     17.056403  \n",
       "1      19.539560     19.723312     19.978294     20.052356     20.123709  \n",
       "2      31.183257     31.218086     31.285777     33.160938     33.360947  \n",
       "3      15.151632     16.003356     16.282885     17.249543     17.259610  \n",
       "4      14.476091     14.724149     16.883795     17.052340     19.289922  \n",
       "\n",
       "[5 rows x 51 columns]"
      ]
     },
     "execution_count": 109,
     "metadata": {},
     "output_type": "execute_result"
    }
   ],
   "source": [
    "dfx.head()"
   ]
  },
  {
   "cell_type": "code",
   "execution_count": 151,
   "metadata": {},
   "outputs": [
    {
     "data": {
      "text/html": [
       "<div>\n",
       "<style scoped>\n",
       "    .dataframe tbody tr th:only-of-type {\n",
       "        vertical-align: middle;\n",
       "    }\n",
       "\n",
       "    .dataframe tbody tr th {\n",
       "        vertical-align: top;\n",
       "    }\n",
       "\n",
       "    .dataframe thead th {\n",
       "        text-align: right;\n",
       "    }\n",
       "</style>\n",
       "<table border=\"1\" class=\"dataframe\">\n",
       "  <thead>\n",
       "    <tr style=\"text-align: right;\">\n",
       "      <th></th>\n",
       "      <th>neuron_id</th>\n",
       "      <th>timestamp_0</th>\n",
       "      <th>timestamp_1</th>\n",
       "      <th>timestamp_2</th>\n",
       "      <th>timestamp_3</th>\n",
       "      <th>timestamp_4</th>\n",
       "      <th>timestamp_5</th>\n",
       "      <th>timestamp_6</th>\n",
       "      <th>timestamp_7</th>\n",
       "      <th>timestamp_8</th>\n",
       "      <th>...</th>\n",
       "      <th>timestamp_40</th>\n",
       "      <th>timestamp_41</th>\n",
       "      <th>timestamp_42</th>\n",
       "      <th>timestamp_43</th>\n",
       "      <th>timestamp_44</th>\n",
       "      <th>timestamp_45</th>\n",
       "      <th>timestamp_46</th>\n",
       "      <th>timestamp_47</th>\n",
       "      <th>timestamp_48</th>\n",
       "      <th>timestamp_49</th>\n",
       "    </tr>\n",
       "    <tr>\n",
       "      <th>ID</th>\n",
       "      <th></th>\n",
       "      <th></th>\n",
       "      <th></th>\n",
       "      <th></th>\n",
       "      <th></th>\n",
       "      <th></th>\n",
       "      <th></th>\n",
       "      <th></th>\n",
       "      <th></th>\n",
       "      <th></th>\n",
       "      <th></th>\n",
       "      <th></th>\n",
       "      <th></th>\n",
       "      <th></th>\n",
       "      <th></th>\n",
       "      <th></th>\n",
       "      <th></th>\n",
       "      <th></th>\n",
       "      <th></th>\n",
       "      <th></th>\n",
       "      <th></th>\n",
       "    </tr>\n",
       "  </thead>\n",
       "  <tbody>\n",
       "    <tr>\n",
       "      <th>28599</th>\n",
       "      <td>9456</td>\n",
       "      <td>1.501446</td>\n",
       "      <td>1.935893</td>\n",
       "      <td>2.100466</td>\n",
       "      <td>2.144410</td>\n",
       "      <td>2.259503</td>\n",
       "      <td>2.269867</td>\n",
       "      <td>2.292989</td>\n",
       "      <td>2.346420</td>\n",
       "      <td>2.724702</td>\n",
       "      <td>...</td>\n",
       "      <td>20.970412</td>\n",
       "      <td>20.984293</td>\n",
       "      <td>20.997030</td>\n",
       "      <td>21.016212</td>\n",
       "      <td>21.039446</td>\n",
       "      <td>21.044450</td>\n",
       "      <td>21.277555</td>\n",
       "      <td>21.723172</td>\n",
       "      <td>22.037007</td>\n",
       "      <td>22.061580</td>\n",
       "    </tr>\n",
       "    <tr>\n",
       "      <th>28600</th>\n",
       "      <td>10064</td>\n",
       "      <td>0.059309</td>\n",
       "      <td>0.116247</td>\n",
       "      <td>0.163038</td>\n",
       "      <td>0.262012</td>\n",
       "      <td>0.301379</td>\n",
       "      <td>1.813054</td>\n",
       "      <td>2.068066</td>\n",
       "      <td>2.168285</td>\n",
       "      <td>2.232430</td>\n",
       "      <td>...</td>\n",
       "      <td>21.518761</td>\n",
       "      <td>22.137357</td>\n",
       "      <td>22.504569</td>\n",
       "      <td>23.102718</td>\n",
       "      <td>23.155953</td>\n",
       "      <td>23.254136</td>\n",
       "      <td>23.302653</td>\n",
       "      <td>23.480564</td>\n",
       "      <td>23.539625</td>\n",
       "      <td>23.585673</td>\n",
       "    </tr>\n",
       "    <tr>\n",
       "      <th>28601</th>\n",
       "      <td>10045</td>\n",
       "      <td>0.563164</td>\n",
       "      <td>1.563625</td>\n",
       "      <td>1.677879</td>\n",
       "      <td>1.881264</td>\n",
       "      <td>2.583920</td>\n",
       "      <td>2.948714</td>\n",
       "      <td>3.112856</td>\n",
       "      <td>3.299712</td>\n",
       "      <td>6.040656</td>\n",
       "      <td>...</td>\n",
       "      <td>22.736962</td>\n",
       "      <td>22.842219</td>\n",
       "      <td>22.905865</td>\n",
       "      <td>22.971377</td>\n",
       "      <td>22.982869</td>\n",
       "      <td>23.614314</td>\n",
       "      <td>23.650248</td>\n",
       "      <td>23.807894</td>\n",
       "      <td>24.425525</td>\n",
       "      <td>25.271358</td>\n",
       "    </tr>\n",
       "    <tr>\n",
       "      <th>28602</th>\n",
       "      <td>9570</td>\n",
       "      <td>1.052182</td>\n",
       "      <td>1.066127</td>\n",
       "      <td>1.805688</td>\n",
       "      <td>1.824387</td>\n",
       "      <td>1.864275</td>\n",
       "      <td>2.420648</td>\n",
       "      <td>2.431845</td>\n",
       "      <td>2.757334</td>\n",
       "      <td>3.235232</td>\n",
       "      <td>...</td>\n",
       "      <td>35.510581</td>\n",
       "      <td>35.700678</td>\n",
       "      <td>37.062503</td>\n",
       "      <td>37.789828</td>\n",
       "      <td>38.569837</td>\n",
       "      <td>39.213227</td>\n",
       "      <td>41.504263</td>\n",
       "      <td>41.963118</td>\n",
       "      <td>41.983141</td>\n",
       "      <td>42.038623</td>\n",
       "    </tr>\n",
       "    <tr>\n",
       "      <th>28603</th>\n",
       "      <td>9836</td>\n",
       "      <td>0.004843</td>\n",
       "      <td>0.026412</td>\n",
       "      <td>0.033590</td>\n",
       "      <td>0.307083</td>\n",
       "      <td>0.311297</td>\n",
       "      <td>0.426553</td>\n",
       "      <td>0.449229</td>\n",
       "      <td>0.453311</td>\n",
       "      <td>1.199124</td>\n",
       "      <td>...</td>\n",
       "      <td>17.048710</td>\n",
       "      <td>17.993623</td>\n",
       "      <td>18.675683</td>\n",
       "      <td>18.827421</td>\n",
       "      <td>18.847187</td>\n",
       "      <td>18.923304</td>\n",
       "      <td>18.929989</td>\n",
       "      <td>19.166302</td>\n",
       "      <td>19.362858</td>\n",
       "      <td>19.370905</td>\n",
       "    </tr>\n",
       "  </tbody>\n",
       "</table>\n",
       "<p>5 rows × 51 columns</p>\n",
       "</div>"
      ],
      "text/plain": [
       "       neuron_id  timestamp_0  timestamp_1  timestamp_2  timestamp_3  \\\n",
       "ID                                                                     \n",
       "28599       9456     1.501446     1.935893     2.100466     2.144410   \n",
       "28600      10064     0.059309     0.116247     0.163038     0.262012   \n",
       "28601      10045     0.563164     1.563625     1.677879     1.881264   \n",
       "28602       9570     1.052182     1.066127     1.805688     1.824387   \n",
       "28603       9836     0.004843     0.026412     0.033590     0.307083   \n",
       "\n",
       "       timestamp_4  timestamp_5  timestamp_6  timestamp_7  timestamp_8  ...  \\\n",
       "ID                                                                      ...   \n",
       "28599     2.259503     2.269867     2.292989     2.346420     2.724702  ...   \n",
       "28600     0.301379     1.813054     2.068066     2.168285     2.232430  ...   \n",
       "28601     2.583920     2.948714     3.112856     3.299712     6.040656  ...   \n",
       "28602     1.864275     2.420648     2.431845     2.757334     3.235232  ...   \n",
       "28603     0.311297     0.426553     0.449229     0.453311     1.199124  ...   \n",
       "\n",
       "       timestamp_40  timestamp_41  timestamp_42  timestamp_43  timestamp_44  \\\n",
       "ID                                                                            \n",
       "28599     20.970412     20.984293     20.997030     21.016212     21.039446   \n",
       "28600     21.518761     22.137357     22.504569     23.102718     23.155953   \n",
       "28601     22.736962     22.842219     22.905865     22.971377     22.982869   \n",
       "28602     35.510581     35.700678     37.062503     37.789828     38.569837   \n",
       "28603     17.048710     17.993623     18.675683     18.827421     18.847187   \n",
       "\n",
       "       timestamp_45  timestamp_46  timestamp_47  timestamp_48  timestamp_49  \n",
       "ID                                                                           \n",
       "28599     21.044450     21.277555     21.723172     22.037007     22.061580  \n",
       "28600     23.254136     23.302653     23.480564     23.539625     23.585673  \n",
       "28601     23.614314     23.650248     23.807894     24.425525     25.271358  \n",
       "28602     39.213227     41.504263     41.963118     41.983141     42.038623  \n",
       "28603     18.923304     18.929989     19.166302     19.362858     19.370905  \n",
       "\n",
       "[5 rows x 51 columns]"
      ]
     },
     "execution_count": 151,
     "metadata": {},
     "output_type": "execute_result"
    }
   ],
   "source": [
    "dfy.head()\n",
    "dfx_test.tail()"
   ]
  },
  {
   "cell_type": "code",
   "execution_count": 111,
   "metadata": {},
   "outputs": [
    {
     "name": "stdout",
     "output_type": "stream",
     "text": [
      "Same number of samples, all good.\n"
     ]
    }
   ],
   "source": [
    "if dfy.shape[0] == dfx.shape[0]:\n",
    "    print(\"Same number of samples, all good.\")\n",
    "else:\n",
    "    print(\"Different number of samples, problem!\")"
   ]
  },
  {
   "cell_type": "markdown",
   "metadata": {},
   "source": [
    "# Data Exploration"
   ]
  },
  {
   "cell_type": "markdown",
   "metadata": {},
   "source": [
    "* **Sanity check:** diff etat1/etat2, neuron_id usefulness"
   ]
  },
  {
   "cell_type": "code",
   "execution_count": 112,
   "metadata": {},
   "outputs": [
    {
     "data": {
      "image/png": "[encoded data removed]",
      "text/plain": [
       "<Figure size 432x288 with 1 Axes>"
      ]
     },
     "metadata": {
      "needs_background": "light"
     },
     "output_type": "display_data"
    }
   ],
   "source": [
    "# Différence entre le nombre d'etats 1 et d'etats 0.\n",
    "dfy.TARGET.value_counts().plot(kind='bar')\n",
    "plt.show()"
   ]
  },
  {
   "cell_type": "code",
   "execution_count": 113,
   "metadata": {},
   "outputs": [
    {
     "data": {
      "text/plain": [
       "[8046]"
      ]
     },
     "execution_count": 113,
     "metadata": {},
     "output_type": "execute_result"
    }
   ],
   "source": [
    "# Should we keep the neuron_id col ?\n",
    "xtest_uniques = dfx_test.neuron_id.unique()\n",
    "x_uniques = dfx.neuron_id.unique()\n",
    "diff = [x for x in x_uniques if x in xtest_uniques]\n",
    "diff"
   ]
  },
  {
   "cell_type": "markdown",
   "metadata": {},
   "source": [
    "* **Create Xtrain ytrain:** numpy array from df, with dimensions *(sample_nb, timestep_nb, feature_nb)*"
   ]
  },
  {
   "cell_type": "code",
   "execution_count": 119,
   "metadata": {},
   "outputs": [
    {
     "data": {
      "text/plain": [
       "(16635,)"
      ]
     },
     "execution_count": 119,
     "metadata": {},
     "output_type": "execute_result"
    }
   ],
   "source": [
    "def getX(dfx):    \n",
    "    # X: Exclude neuron_id column from array\n",
    "    X = dfx.iloc[:,1:].values\n",
    "    X = X[..., np.newaxis]\n",
    "    return X\n",
    "\n",
    "X = getX(dfx)\n",
    "\n",
    "# y: Delete useless dimension \n",
    "y = dfy.values\n",
    "y = np.reshape(y, (y.shape[0],))\n",
    "y.shape"
   ]
  },
  {
   "cell_type": "markdown",
   "metadata": {},
   "source": [
    "* **Balance dataset:** Under-sample class2 to have same number of samples in both classes"
   ]
  },
  {
   "cell_type": "code",
   "execution_count": 120,
   "metadata": {},
   "outputs": [
    {
     "name": "stdout",
     "output_type": "stream",
     "text": [
      "3058 13577\n",
      "[10583    83  5763 ...  7789  8642  6091]\n",
      "[  430  2353 15397 ...  6533 10627  8340]\n"
     ]
    }
   ],
   "source": [
    "# SET SEED pour reproducibilité\n",
    "\n",
    "# Extract class2 indices from Y\n",
    "y_class1_ix = np.where(y == 1)[0]\n",
    "y_class2_ix = np.where(y == 0)[0]\n",
    "print(len(y_class1_ix), len(y_class2_ix))\n",
    "\n",
    "# Under-sample class2 to get balanced classes\n",
    "y_class2_ix_undersampled = np.random.choice(y_class2_ix, len(y_class1_ix))\n",
    "print(y_class2_ix_undersampled)\n",
    "\n",
    "# Concatenate the undersampled_class2_array and the class1_array\n",
    "balanced_ix = np.concatenate((y_class1_ix, y_class2_ix_undersampled), axis=0)\n",
    "np.random.shuffle(balanced_ix)\n",
    "print(balanced_ix)"
   ]
  },
  {
   "cell_type": "code",
   "execution_count": 121,
   "metadata": {},
   "outputs": [],
   "source": [
    "# Create X_train dataset (Keras will do the val split)\n",
    "X_train = X[balanced_ix]\n",
    "y_train = y[balanced_ix]\n",
    "\n",
    "# Create X_test\n",
    "balanced_ix_test = np.in1d(range(X.shape[0]), balanced_ix)\n",
    "X_test = X[~balanced_ix_test]\n",
    "y_test = y[~balanced_ix_test]"
   ]
  },
  {
   "cell_type": "markdown",
   "metadata": {},
   "source": [
    "* **Deprecated:** Concatenate neuron_id to every timestep of a sample "
   ]
  },
  {
   "cell_type": "code",
   "execution_count": 122,
   "metadata": {},
   "outputs": [
    {
     "data": {
      "text/plain": [
       "'\\ntimesteps_arr = dfx.iloc[:,1:].values\\ntimesteps_arr = timesteps_arr[..., np.newaxis]\\ntimesteps_arr.shape\\n\\nneuron_arr = dfx.iloc[:,0].values\\nneuron_arr.shape\\n\\nneuron_arr = np.broadcast_to(neuron_arr[:,None,None], timesteps_arr.shape)\\nfinal_arr = np.concatenate((timesteps_arr,neuron_arr), axis=2)\\nfinal_arr.shape\\n'"
      ]
     },
     "execution_count": 122,
     "metadata": {},
     "output_type": "execute_result"
    }
   ],
   "source": [
    "# TODO : Make a 3d numpy array from our pandas df\n",
    "# Shape = [samples, timestamps, features]\n",
    "\"\"\"\n",
    "timesteps_arr = dfx.iloc[:,1:].values\n",
    "timesteps_arr = timesteps_arr[..., np.newaxis]\n",
    "timesteps_arr.shape\n",
    "\n",
    "neuron_arr = dfx.iloc[:,0].values\n",
    "neuron_arr.shape\n",
    "\n",
    "neuron_arr = np.broadcast_to(neuron_arr[:,None,None], timesteps_arr.shape)\n",
    "final_arr = np.concatenate((timesteps_arr,neuron_arr), axis=2)\n",
    "final_arr.shape\n",
    "\"\"\""
   ]
  },
  {
   "cell_type": "markdown",
   "metadata": {},
   "source": [
    "# Model Training"
   ]
  },
  {
   "cell_type": "markdown",
   "metadata": {},
   "source": [
    "## References"
   ]
  },
  {
   "cell_type": "markdown",
   "metadata": {},
   "source": [
    "* Arxiv: [Neural activity classification with machine learning models trained oninterspike interval series data](https://arxiv.org/pdf/1810.03855.pdf) => PCA and KNN\n",
    "* Github: [PySpike: Python library to analyze spike Train](https://github.com/mariomulansky/PySpike) => Obscure mathematical measurements between spike trains\n",
    "* Profil: [Prof expert en spike train analysis](http://xtof.perso.math.cnrs.fr/)"
   ]
  },
  {
   "cell_type": "markdown",
   "metadata": {},
   "source": [
    "## Code"
   ]
  },
  {
   "cell_type": "markdown",
   "metadata": {},
   "source": [
    "### Deep-Learning 1: blunt RNN"
   ]
  },
  {
   "cell_type": "markdown",
   "metadata": {},
   "source": [
    "* **Create and train model**"
   ]
  },
  {
   "cell_type": "code",
   "execution_count": 160,
   "metadata": {},
   "outputs": [
    {
     "name": "stdout",
     "output_type": "stream",
     "text": [
      "_________________________________________________________________\n",
      "Layer (type)                 Output Shape              Param #   \n",
      "=================================================================\n",
      "input_3 (InputLayer)         (None, 50, 1)             0         \n",
      "_________________________________________________________________\n",
      "lstm_3 (LSTM)                (None, 64)                16896     \n",
      "_________________________________________________________________\n",
      "dense_3 (Dense)              (None, 1)                 65        \n",
      "=================================================================\n",
      "Total params: 16,961\n",
      "Trainable params: 16,961\n",
      "Non-trainable params: 0\n",
      "_________________________________________________________________\n"
     ]
    }
   ],
   "source": [
    "timestamp_nb = 50\n",
    "feature_nb = 1\n",
    "\n",
    "input_shape = (timestamp_nb, feature_nb)\n",
    "x = input_tensor = Input(input_shape)\n",
    "x = LSTM(64, return_sequences=False)(x)\n",
    "x = output_tensor = Dense(1, activation='sigmoid')(x)\n",
    "model = Model(input_tensor, output_tensor)\n",
    "model.summary()"
   ]
  },
  {
   "cell_type": "code",
   "execution_count": 161,
   "metadata": {},
   "outputs": [
    {
     "name": "stdout",
     "output_type": "stream",
     "text": [
      "Train on 5504 samples, validate on 612 samples\n",
      "Epoch 1/3\n",
      "5504/5504 [==============================] - 22s 4ms/step - loss: 0.2425 - acc: 0.5794 - val_loss: 0.2416 - val_acc: 0.5654\n",
      "Epoch 2/3\n",
      "5504/5504 [==============================] - 18s 3ms/step - loss: 0.2385 - acc: 0.6001 - val_loss: 0.2391 - val_acc: 0.5882\n",
      "Epoch 3/3\n",
      "5504/5504 [==============================] - 18s 3ms/step - loss: 0.2381 - acc: 0.5968 - val_loss: 0.2467 - val_acc: 0.5588\n"
     ]
    },
    {
     "data": {
      "text/plain": [
       "<keras.callbacks.History at 0x1a4cdd6e48>"
      ]
     },
     "execution_count": 161,
     "metadata": {},
     "output_type": "execute_result"
    }
   ],
   "source": [
    "model.compile(metrics=['accuracy'], loss='mean_squared_error', optimizer='adam')\n",
    "model.fit(X_train, y_train, epochs=3, validation_split=0.1)"
   ]
  },
  {
   "cell_type": "markdown",
   "metadata": {},
   "source": [
    "* **Compute metrics**"
   ]
  },
  {
   "cell_type": "code",
   "execution_count": 131,
   "metadata": {},
   "outputs": [
    {
     "data": {
      "text/plain": [
       "array([1., 0., 1., 0., 0., 0., 1., 1., 1., 1.], dtype=float32)"
      ]
     },
     "execution_count": 131,
     "metadata": {},
     "output_type": "execute_result"
    }
   ],
   "source": [
    "def predict(X_test):\n",
    "    # Predict on custom X_test\n",
    "    y_pred = model.predict(X_test)\n",
    "    y_pred = np.reshape(y_pred, (y_pred.shape[0],))\n",
    "\n",
    "    # Convert sigmoid output to 0s and 1s\n",
    "    y_pred[y_pred >= 0.5] = 1\n",
    "    y_pred[y_pred < 0.5] = 0\n",
    "    return y_pred\n",
    "\n",
    "y_pred = predict(X_test)\n",
    "y_pred[:10]"
   ]
  },
  {
   "cell_type": "code",
   "execution_count": 132,
   "metadata": {},
   "outputs": [
    {
     "name": "stdout",
     "output_type": "stream",
     "text": [
      "              precision    recall  f1-score   support\n",
      "\n",
      "         0.0       1.00      0.58      0.73     10837\n",
      "         1.0       0.00      0.00      0.00         0\n",
      "\n",
      "    accuracy                           0.58     10837\n",
      "   macro avg       0.50      0.29      0.37     10837\n",
      "weighted avg       1.00      0.58      0.73     10837\n",
      " \n",
      "\n",
      "\n",
      " Cohen-Kappa:  0.0\n"
     ]
    }
   ],
   "source": [
    "print(\n",
    "    metrics.classification_report(y_test, y_pred),\n",
    "    \"\\n\\n\\n\",\n",
    "    \"Cohen-Kappa: \",\n",
    "    metrics.cohen_kappa_score(y_test, y_pred))"
   ]
  },
  {
   "cell_type": "markdown",
   "metadata": {},
   "source": [
    "* **Make real prediction on X_test_official**"
   ]
  },
  {
   "cell_type": "code",
   "execution_count": 133,
   "metadata": {},
   "outputs": [],
   "source": [
    "X_test_official = getX(dfx_test)\n",
    "y_pred_official = predict(X_test_official)"
   ]
  },
  {
   "cell_type": "code",
   "execution_count": 156,
   "metadata": {},
   "outputs": [
    {
     "data": {
      "text/html": [
       "<div>\n",
       "<style scoped>\n",
       "    .dataframe tbody tr th:only-of-type {\n",
       "        vertical-align: middle;\n",
       "    }\n",
       "\n",
       "    .dataframe tbody tr th {\n",
       "        vertical-align: top;\n",
       "    }\n",
       "\n",
       "    .dataframe thead th {\n",
       "        text-align: right;\n",
       "    }\n",
       "</style>\n",
       "<table border=\"1\" class=\"dataframe\">\n",
       "  <thead>\n",
       "    <tr style=\"text-align: right;\">\n",
       "      <th></th>\n",
       "      <th>TARGET</th>\n",
       "    </tr>\n",
       "    <tr>\n",
       "      <th>ID</th>\n",
       "      <th></th>\n",
       "    </tr>\n",
       "  </thead>\n",
       "  <tbody>\n",
       "    <tr>\n",
       "      <th>16635</th>\n",
       "      <td>1</td>\n",
       "    </tr>\n",
       "    <tr>\n",
       "      <th>16636</th>\n",
       "      <td>1</td>\n",
       "    </tr>\n",
       "    <tr>\n",
       "      <th>16637</th>\n",
       "      <td>1</td>\n",
       "    </tr>\n",
       "    <tr>\n",
       "      <th>16638</th>\n",
       "      <td>1</td>\n",
       "    </tr>\n",
       "    <tr>\n",
       "      <th>16639</th>\n",
       "      <td>0</td>\n",
       "    </tr>\n",
       "  </tbody>\n",
       "</table>\n",
       "</div>"
      ],
      "text/plain": [
       "       TARGET\n",
       "ID           \n",
       "16635       1\n",
       "16636       1\n",
       "16637       1\n",
       "16638       1\n",
       "16639       0"
      ]
     },
     "execution_count": 156,
     "metadata": {},
     "output_type": "execute_result"
    }
   ],
   "source": [
    "# Format output\n",
    "dfy_pred = pd.DataFrame(data=y_pred_official, columns=[\"TARGET\"], dtype=int)\n",
    "dfy_pred.index.name = \"ID\"\n",
    "dfy_pred.index += 16635\n",
    "dfy_pred.head()"
   ]
  },
  {
   "cell_type": "code",
   "execution_count": 159,
   "metadata": {},
   "outputs": [],
   "source": [
    "# Dump .csv\n",
    "dfy_pred.to_csv('../data/y_pred.csv', sep=',')"
   ]
  },
  {
   "cell_type": "markdown",
   "metadata": {},
   "source": [
    "### Domain-knowledge 1: Benchmark = differencing + tsfresh feature engineering + random forest"
   ]
  },
  {
   "cell_type": "markdown",
   "metadata": {},
   "source": [
    "### Domain-knowledge 2: KNN with SPIKE- and ISI- synchronization distances"
   ]
  },
  {
   "cell_type": "code",
   "execution_count": null,
   "metadata": {},
   "outputs": [],
   "source": []
  }
 ],
 "metadata": {
  "kernelspec": {
   "display_name": "Python 3",
   "language": "python",
   "name": "python3"
  },
  "language_info": {
   "codemirror_mode": {
    "name": "ipython",
    "version": 3
   },
   "file_extension": ".py",
   "mimetype": "text/x-python",
   "name": "python",
   "nbconvert_exporter": "python",
   "pygments_lexer": "ipython3",
   "version": "3.7.3"
  }
 },
 "nbformat": 4,
 "nbformat_minor": 2
}
