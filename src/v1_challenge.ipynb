{
 "cells": [
  {
   "cell_type": "markdown",
   "metadata": {},
   "source": [
    "# Introduction"
   ]
  },
  {
   "cell_type": "code",
   "execution_count": 38,
   "metadata": {
    "scrolled": true
   },
   "outputs": [],
   "source": [
    "import os\n",
    "import sys\n",
    "import csv\n",
    "import datetime\n",
    "import pandas as pd\n",
    "import xgboost as xgb\n",
    "import keras\n",
    "import sklearn\n",
    "import tensorflow\n",
    "import numpy as np\n",
    "import joblib\n",
    "import matplotlib.pyplot as plt\n",
    "\n",
    "from imblearn.over_sampling import RandomOverSampler\n",
    "from tsfresh import extract_features\n",
    "from keras.models import Model, load_model\n",
    "from keras.layers import Input, Activation, Dense, concatenate, LSTM, GRU, Dropout, Bidirectional\n",
    "from sklearn import metrics, feature_selection\n",
    "from sklearn.model_selection import RandomizedSearchCV\n",
    "from sklearn.svm import SVC\n",
    "from sklearn.ensemble import RandomForestClassifier\n",
    "from sklearn.utils import class_weight\n",
    "from random import uniform, randint"
   ]
  },
  {
   "cell_type": "markdown",
   "metadata": {},
   "source": [
    "# Data Importation"
   ]
  },
  {
   "cell_type": "code",
   "execution_count": 17,
   "metadata": {},
   "outputs": [],
   "source": [
    "dfx = pd.read_csv('../data/x_train.csv').set_index('ID')\n",
    "dfy = pd.read_csv('../data/y_train.csv').set_index('ID')\n",
    "dfx_test = pd.read_csv('../data/x_test.csv').set_index('ID')"
   ]
  },
  {
   "cell_type": "code",
   "execution_count": 18,
   "metadata": {},
   "outputs": [
    {
     "data": {
      "text/html": [
       "<div>\n",
       "<style scoped>\n",
       "    .dataframe tbody tr th:only-of-type {\n",
       "        vertical-align: middle;\n",
       "    }\n",
       "\n",
       "    .dataframe tbody tr th {\n",
       "        vertical-align: top;\n",
       "    }\n",
       "\n",
       "    .dataframe thead th {\n",
       "        text-align: right;\n",
       "    }\n",
       "</style>\n",
       "<table border=\"1\" class=\"dataframe\">\n",
       "  <thead>\n",
       "    <tr style=\"text-align: right;\">\n",
       "      <th></th>\n",
       "      <th>neuron_id</th>\n",
       "      <th>timestamp_0</th>\n",
       "      <th>timestamp_1</th>\n",
       "      <th>timestamp_2</th>\n",
       "      <th>timestamp_3</th>\n",
       "      <th>timestamp_4</th>\n",
       "      <th>timestamp_5</th>\n",
       "      <th>timestamp_6</th>\n",
       "      <th>timestamp_7</th>\n",
       "      <th>timestamp_8</th>\n",
       "      <th>...</th>\n",
       "      <th>timestamp_40</th>\n",
       "      <th>timestamp_41</th>\n",
       "      <th>timestamp_42</th>\n",
       "      <th>timestamp_43</th>\n",
       "      <th>timestamp_44</th>\n",
       "      <th>timestamp_45</th>\n",
       "      <th>timestamp_46</th>\n",
       "      <th>timestamp_47</th>\n",
       "      <th>timestamp_48</th>\n",
       "      <th>timestamp_49</th>\n",
       "    </tr>\n",
       "    <tr>\n",
       "      <th>ID</th>\n",
       "      <th></th>\n",
       "      <th></th>\n",
       "      <th></th>\n",
       "      <th></th>\n",
       "      <th></th>\n",
       "      <th></th>\n",
       "      <th></th>\n",
       "      <th></th>\n",
       "      <th></th>\n",
       "      <th></th>\n",
       "      <th></th>\n",
       "      <th></th>\n",
       "      <th></th>\n",
       "      <th></th>\n",
       "      <th></th>\n",
       "      <th></th>\n",
       "      <th></th>\n",
       "      <th></th>\n",
       "      <th></th>\n",
       "      <th></th>\n",
       "      <th></th>\n",
       "    </tr>\n",
       "  </thead>\n",
       "  <tbody>\n",
       "    <tr>\n",
       "      <th>16630</th>\n",
       "      <td>5691</td>\n",
       "      <td>0.077914</td>\n",
       "      <td>0.708334</td>\n",
       "      <td>1.009554</td>\n",
       "      <td>1.125147</td>\n",
       "      <td>1.271336</td>\n",
       "      <td>1.299890</td>\n",
       "      <td>1.666290</td>\n",
       "      <td>1.718390</td>\n",
       "      <td>2.381562</td>\n",
       "      <td>...</td>\n",
       "      <td>29.316422</td>\n",
       "      <td>30.307006</td>\n",
       "      <td>31.185741</td>\n",
       "      <td>31.227892</td>\n",
       "      <td>32.320902</td>\n",
       "      <td>32.701000</td>\n",
       "      <td>32.955075</td>\n",
       "      <td>33.016627</td>\n",
       "      <td>34.837705</td>\n",
       "      <td>34.874491</td>\n",
       "    </tr>\n",
       "    <tr>\n",
       "      <th>16631</th>\n",
       "      <td>2341</td>\n",
       "      <td>0.485287</td>\n",
       "      <td>0.870193</td>\n",
       "      <td>0.959064</td>\n",
       "      <td>1.733133</td>\n",
       "      <td>1.755243</td>\n",
       "      <td>1.803468</td>\n",
       "      <td>1.841432</td>\n",
       "      <td>1.986925</td>\n",
       "      <td>2.006145</td>\n",
       "      <td>...</td>\n",
       "      <td>17.151013</td>\n",
       "      <td>17.367892</td>\n",
       "      <td>17.727558</td>\n",
       "      <td>18.178916</td>\n",
       "      <td>18.521734</td>\n",
       "      <td>19.492522</td>\n",
       "      <td>19.515122</td>\n",
       "      <td>20.715555</td>\n",
       "      <td>21.217199</td>\n",
       "      <td>21.640693</td>\n",
       "    </tr>\n",
       "    <tr>\n",
       "      <th>16632</th>\n",
       "      <td>8046</td>\n",
       "      <td>0.213619</td>\n",
       "      <td>0.290771</td>\n",
       "      <td>1.575419</td>\n",
       "      <td>1.650658</td>\n",
       "      <td>1.700773</td>\n",
       "      <td>1.856047</td>\n",
       "      <td>1.927563</td>\n",
       "      <td>1.950001</td>\n",
       "      <td>2.367852</td>\n",
       "      <td>...</td>\n",
       "      <td>14.064862</td>\n",
       "      <td>14.092407</td>\n",
       "      <td>14.343008</td>\n",
       "      <td>14.428562</td>\n",
       "      <td>14.671081</td>\n",
       "      <td>14.791297</td>\n",
       "      <td>14.847738</td>\n",
       "      <td>14.916361</td>\n",
       "      <td>15.055357</td>\n",
       "      <td>15.192531</td>\n",
       "    </tr>\n",
       "    <tr>\n",
       "      <th>16633</th>\n",
       "      <td>6855</td>\n",
       "      <td>2.669642</td>\n",
       "      <td>7.500198</td>\n",
       "      <td>8.710341</td>\n",
       "      <td>8.724346</td>\n",
       "      <td>8.760471</td>\n",
       "      <td>8.770804</td>\n",
       "      <td>8.786001</td>\n",
       "      <td>8.847625</td>\n",
       "      <td>8.885186</td>\n",
       "      <td>...</td>\n",
       "      <td>15.555430</td>\n",
       "      <td>15.698512</td>\n",
       "      <td>15.782122</td>\n",
       "      <td>16.067267</td>\n",
       "      <td>16.499324</td>\n",
       "      <td>16.906955</td>\n",
       "      <td>17.444176</td>\n",
       "      <td>18.704728</td>\n",
       "      <td>22.082864</td>\n",
       "      <td>27.185064</td>\n",
       "    </tr>\n",
       "    <tr>\n",
       "      <th>16634</th>\n",
       "      <td>6921</td>\n",
       "      <td>0.075924</td>\n",
       "      <td>0.376280</td>\n",
       "      <td>0.445379</td>\n",
       "      <td>0.762095</td>\n",
       "      <td>0.929728</td>\n",
       "      <td>1.029945</td>\n",
       "      <td>1.622643</td>\n",
       "      <td>1.710542</td>\n",
       "      <td>2.046901</td>\n",
       "      <td>...</td>\n",
       "      <td>23.397511</td>\n",
       "      <td>23.437452</td>\n",
       "      <td>24.217391</td>\n",
       "      <td>24.519848</td>\n",
       "      <td>24.675594</td>\n",
       "      <td>24.764713</td>\n",
       "      <td>24.894686</td>\n",
       "      <td>25.041824</td>\n",
       "      <td>25.071265</td>\n",
       "      <td>28.288743</td>\n",
       "    </tr>\n",
       "  </tbody>\n",
       "</table>\n",
       "<p>5 rows × 51 columns</p>\n",
       "</div>"
      ],
      "text/plain": [
       "       neuron_id  timestamp_0  timestamp_1  timestamp_2  timestamp_3  \\\n",
       "ID                                                                     \n",
       "16630       5691     0.077914     0.708334     1.009554     1.125147   \n",
       "16631       2341     0.485287     0.870193     0.959064     1.733133   \n",
       "16632       8046     0.213619     0.290771     1.575419     1.650658   \n",
       "16633       6855     2.669642     7.500198     8.710341     8.724346   \n",
       "16634       6921     0.075924     0.376280     0.445379     0.762095   \n",
       "\n",
       "       timestamp_4  timestamp_5  timestamp_6  timestamp_7  timestamp_8  \\\n",
       "ID                                                                       \n",
       "16630     1.271336     1.299890     1.666290     1.718390     2.381562   \n",
       "16631     1.755243     1.803468     1.841432     1.986925     2.006145   \n",
       "16632     1.700773     1.856047     1.927563     1.950001     2.367852   \n",
       "16633     8.760471     8.770804     8.786001     8.847625     8.885186   \n",
       "16634     0.929728     1.029945     1.622643     1.710542     2.046901   \n",
       "\n",
       "           ...       timestamp_40  timestamp_41  timestamp_42  timestamp_43  \\\n",
       "ID         ...                                                                \n",
       "16630      ...          29.316422     30.307006     31.185741     31.227892   \n",
       "16631      ...          17.151013     17.367892     17.727558     18.178916   \n",
       "16632      ...          14.064862     14.092407     14.343008     14.428562   \n",
       "16633      ...          15.555430     15.698512     15.782122     16.067267   \n",
       "16634      ...          23.397511     23.437452     24.217391     24.519848   \n",
       "\n",
       "       timestamp_44  timestamp_45  timestamp_46  timestamp_47  timestamp_48  \\\n",
       "ID                                                                            \n",
       "16630     32.320902     32.701000     32.955075     33.016627     34.837705   \n",
       "16631     18.521734     19.492522     19.515122     20.715555     21.217199   \n",
       "16632     14.671081     14.791297     14.847738     14.916361     15.055357   \n",
       "16633     16.499324     16.906955     17.444176     18.704728     22.082864   \n",
       "16634     24.675594     24.764713     24.894686     25.041824     25.071265   \n",
       "\n",
       "       timestamp_49  \n",
       "ID                   \n",
       "16630     34.874491  \n",
       "16631     21.640693  \n",
       "16632     15.192531  \n",
       "16633     27.185064  \n",
       "16634     28.288743  \n",
       "\n",
       "[5 rows x 51 columns]"
      ]
     },
     "execution_count": 18,
     "metadata": {},
     "output_type": "execute_result"
    }
   ],
   "source": [
    "dfy.head()\n",
    "dfx.tail()"
   ]
  },
  {
   "cell_type": "code",
   "execution_count": 19,
   "metadata": {},
   "outputs": [
    {
     "name": "stdout",
     "output_type": "stream",
     "text": [
      "Same number of samples, all good.\n"
     ]
    }
   ],
   "source": [
    "if dfy.shape[0] == dfx.shape[0]:\n",
    "    print(\"Same number of samples, all good.\")\n",
    "else:\n",
    "    print(\"Different number of samples, problem!\")"
   ]
  },
  {
   "cell_type": "markdown",
   "metadata": {},
   "source": [
    "# Data Exploration"
   ]
  },
  {
   "cell_type": "markdown",
   "metadata": {},
   "source": [
    "* **Sanity check:** diff etat1/etat2, neuron_id usefulness"
   ]
  },
  {
   "cell_type": "code",
   "execution_count": 20,
   "metadata": {},
   "outputs": [
    {
     "data": {
      "image/png": "[encoded data removed]",
      "text/plain": [
       "<Figure size 432x288 with 1 Axes>"
      ]
     },
     "metadata": {
      "needs_background": "light"
     },
     "output_type": "display_data"
    }
   ],
   "source": [
    "# Différence entre le nombre d'etats 1 et d'etats 0.\n",
    "dfy.TARGET.value_counts().plot(kind='bar')\n",
    "plt.show()"
   ]
  },
  {
   "cell_type": "code",
   "execution_count": 21,
   "metadata": {},
   "outputs": [
    {
     "name": "stdout",
     "output_type": "stream",
     "text": [
      "There are 1 neuron_ids in common between the train and test sets.\n"
     ]
    }
   ],
   "source": [
    "# Should we keep the neuron_id col ?\n",
    "xtest_uniques = dfx_test.neuron_id.unique()\n",
    "x_uniques = dfx.neuron_id.unique()\n",
    "diff = [x for x in x_uniques if x in xtest_uniques]\n",
    "print(\"There are {} neuron_ids in common between the train and test sets.\".format(len(diff)))"
   ]
  },
  {
   "cell_type": "code",
   "execution_count": 22,
   "metadata": {},
   "outputs": [
    {
     "data": {
      "text/plain": [
       "(458,)"
      ]
     },
     "execution_count": 22,
     "metadata": {},
     "output_type": "execute_result"
    }
   ],
   "source": [
    "dfx.neuron_id.unique().shape"
   ]
  },
  {
   "cell_type": "markdown",
   "metadata": {},
   "source": [
    "* **Balance dataset:** Under-sample class2 to have same number of samples in both classes"
   ]
  },
  {
   "cell_type": "code",
   "execution_count": 42,
   "metadata": {},
   "outputs": [],
   "source": [
    "# SET SEED pour reproducibilité\n",
    "def balance_data(X, y, method=\"undersampling\", split=0.9):\n",
    "    \"\"\" Return balanced training dataset obtained by undersampling class 2. \"\"\"\n",
    "    # Extract class2 indices from Y\n",
    "    y_class1_ix = np.where(y == 1)[0]\n",
    "    y_class2_ix = np.where(y == 0)[0]\n",
    "\n",
    "    # Under-sample class2 to get balanced classes\n",
    "    if method == \"undersampling\":\n",
    "        y_class2_ix = np.random.choice(y_class2_ix, int(len(y_class1_ix) * split), replace=False)\n",
    "    else:\n",
    "        y_class2_ix = np.random.choice(y_class2_ix, int(len(y_class2_ix) * split), replace=False)\n",
    "\n",
    "    # Split train & val\n",
    "    y_class1_ix = np.random.choice(y_class1_ix, int(len(y_class1_ix) * split), replace=False)\n",
    "\n",
    "    # Concatenate the undersampled_class2_array and the class1_array\n",
    "    balanced_ix = np.concatenate((y_class1_ix, y_class2_ix), axis=0)\n",
    "    np.random.shuffle(balanced_ix)\n",
    "\n",
    "    # Create X_train dataset (Keras will do the val split)\n",
    "    X_train = X[balanced_ix]\n",
    "    y_train = y[balanced_ix]\n",
    "\n",
    "    if method == \"oversampling\":\n",
    "        X_train = np.reshape(X_train, X_train.shape[:2])\n",
    "        ros = RandomOverSampler(random_state=0)\n",
    "        X_train, y_train = ros.fit_sample(X_train, y_train)\n",
    "        X_train = X_train[..., np.newaxis]\n",
    "    \n",
    "    # Create **UNOFFICIAL** X_val containing only 0s.\n",
    "    balanced_ix_val = np.in1d(range(X.shape[0]), balanced_ix)\n",
    "    \n",
    "    X_val = X[~balanced_ix_val]\n",
    "    y_val = y[~balanced_ix_val]\n",
    "    \n",
    "    return X_train, y_train, X_val, y_val"
   ]
  },
  {
   "cell_type": "markdown",
   "metadata": {},
   "source": [
    "* **Extract features:** Use tsfresh to perform feature engineering"
   ]
  },
  {
   "cell_type": "code",
   "execution_count": 24,
   "metadata": {},
   "outputs": [],
   "source": [
    "# WIP !\n",
    "def extract_tsfresh(dfx):\n",
    "    dfx = pd.DataFrame(dfx.stack(), columns=['spike_time']).reset_index()\n",
    "    extracted_features = extract_features(dfx, column_id=\"ID\", column_value=\"spike_time\", column_sort=\"level_1\")\n",
    "    dfx = dfx.pivot(index='ID', columns='level_1', values='spike_time')\n",
    "    dfx.columns = [int(col[col.find('_') + 1:]) for col in dfx.columns]\n",
    "    dfx = dfx.sort_index(axis=1).join(extracted_features)\n",
    "    dfx = dfx.dropna(axis='columns')\n",
    "    fname = \"../data/features{}.csv\".format(datetime.datetime.now().strftime(\"%m%d%H%M%S\"))\n",
    "    dfx.to_csv(fname, sep=',')\n",
    "    return dfx"
   ]
  },
  {
   "cell_type": "code",
   "execution_count": 25,
   "metadata": {},
   "outputs": [],
   "source": [
    "def get_save(fn):\n",
    "    save = pd.read_csv(fn)\n",
    "    save = save.dropna(axis='columns').set_index('ID')\n",
    "    return save"
   ]
  },
  {
   "cell_type": "code",
   "execution_count": 26,
   "metadata": {},
   "outputs": [],
   "source": [
    "def isolate_features(X):\n",
    "    ts_arr = X[:,:50]\n",
    "    fe_arr = X[:,50:]\n",
    "    fe_arr = np.reshape(fe_arr, fe_arr.shape[:-1])\n",
    "    \"\"\"\n",
    "    Obsolete: repeat engineered features for each 50 timestep of a sample\n",
    "    X = np.concatenate((np.repeat(features_arr.transpose(0,2,1), 50, axis=1), nofeat_arr), axis=2)\n",
    "    !!! Will kill 42's mac !!!\n",
    "    \"\"\"\n",
    "    return list((ts_arr, fe_arr))"
   ]
  },
  {
   "cell_type": "code",
   "execution_count": 27,
   "metadata": {},
   "outputs": [],
   "source": [
    "def remove_low_var(fe_arr, step=\"test\"):\n",
    "    if step == \"train\":\n",
    "        fe_arr = sel.fit_transform(fe_arr)\n",
    "    else:\n",
    "        fe_arr = sel.transform(fe_arr)\n",
    "    return fe_arr"
   ]
  },
  {
   "cell_type": "code",
   "execution_count": 28,
   "metadata": {},
   "outputs": [],
   "source": [
    "def drop_unique_col(df):\n",
    "    for col in df.columns:\n",
    "        if len(df[col].unique()) == 1:\n",
    "            df.drop(col,inplace=True,axis=1)"
   ]
  },
  {
   "cell_type": "markdown",
   "metadata": {},
   "source": [
    "* **Standardization:** Scale features"
   ]
  },
  {
   "cell_type": "code",
   "execution_count": 29,
   "metadata": {},
   "outputs": [],
   "source": [
    "def standardize_data(X, step=\"test\"):\n",
    "    \"\"\"Simple standardization that accepts both a single arr, AND 2 arrays in case of RNN+FeatureEngineering\"\"\"\n",
    "    def standardize(X, step):\n",
    "        if step == \"train\":\n",
    "            X = scaler.fit_transform(X)\n",
    "        else:\n",
    "            X = scaler.transform(X)\n",
    "        #X -= np.mean(X, axis=0)\n",
    "        #X /= (np.std(X, axis=0) + sys.float_info.epsilon)\n",
    "        #X = np.nan_to_num(X)\n",
    "        return X\n",
    "\n",
    "    if isinstance(X, list):\n",
    "        X = (X[0], standardize(X[1], step))\n",
    "#    else:\n",
    "#        X = standardize(X, step)\n",
    "    return X"
   ]
  },
  {
   "cell_type": "markdown",
   "metadata": {},
   "source": [
    "* **Create Xtrain ytrain:** numpy array from df, with dimensions *(sample_nb, timestep_nb, feature_nb)*"
   ]
  },
  {
   "cell_type": "code",
   "execution_count": 30,
   "metadata": {},
   "outputs": [],
   "source": [
    "def getData(dfx, dfy, \n",
    "            exclude_neuron_id=True, \n",
    "            balancing=\"undersample\",\n",
    "            standardize=False,\n",
    "            differencing=False,\n",
    "            get_tsfresh=False,\n",
    "            get_ISI_SPIKE=False,\n",
    "            step=\"train\",\n",
    "            RNN=True,\n",
    "            remove_low_variance=True,\n",
    "            split=0.90,\n",
    "            **extras):    \n",
    "   \n",
    "    if isinstance(dfx, str) and get_tsfresh:\n",
    "        dfx = get_save(dfx)\n",
    "        #drop_unique_col(dfx)\n",
    "    else:\n",
    "        if exclude_neuron_id:\n",
    "            # X: Exclude neuron_id column from array\n",
    "            dfx = dfx.drop(columns=['neuron_id'])\n",
    "        if get_tsfresh:\n",
    "            dfx = extract_tsfresh(dfx)\n",
    "    \n",
    "    X = dfx.values\n",
    "    \n",
    "    X = X[..., np.newaxis]\n",
    "    y = np.reshape(dfy.values, (dfy.values.shape[0],))\n",
    "       \n",
    "    if step != \"test\":\n",
    "        X, y, X_val, y_val = balance_data(X, y, method=balancing, split=split)\n",
    "    else:\n",
    "        X_val = np.ones(X.shape)\n",
    "        y_val = np.ones(y.shape)\n",
    "        \n",
    "    # Convert from timeseries to interval\n",
    "    if differencing:\n",
    "        X[:,1:50] -= X[:,:49]\n",
    "        X_val[:,1:50] -= X_val[:,:49]\n",
    " \n",
    "    if get_ISI_SPIKE:\n",
    "        pass\n",
    "    \n",
    "    if get_tsfresh:\n",
    "        X = isolate_features(X)\n",
    "        X_val = isolate_features(X_val)\n",
    "    \n",
    "    if get_tsfresh and remove_low_variance:\n",
    "        X[1] = remove_low_var(X[1], step)\n",
    "        if step != \"test\":\n",
    "            # Otherwise X_val is a made up np.ones array and has 0 variance => BUG\n",
    "            X_val[1] = remove_low_var(X_val[1])\n",
    "        \n",
    "#    elif get_tsfresh:\n",
    "#        X = np.reshape(X, X.shape[:2])\n",
    "        \n",
    "    if standardize:\n",
    "        X = standardize_data(X, step)\n",
    "        if step != \"test\":\n",
    "            # Same as before\n",
    "            X_val = standardize_data(X_val)\n",
    "      \n",
    "    return X, y, X_val, y_val"
   ]
  },
  {
   "cell_type": "markdown",
   "metadata": {},
   "source": [
    "* **Deprecated:** Concatenate neuron_id to every timestep of a sample "
   ]
  },
  {
   "cell_type": "code",
   "execution_count": 31,
   "metadata": {},
   "outputs": [
    {
     "data": {
      "text/plain": [
       "'\\ntimesteps_arr = dfx.iloc[:,1:].values\\ntimesteps_arr = timesteps_arr[..., np.newaxis]\\ntimesteps_arr.shape\\n\\nneuron_arr = dfx.iloc[:,0].values\\nneuron_arr.shape\\n\\nneuron_arr = np.broadcast_to(neuron_arr[:,None,None], timesteps_arr.shape)\\nfinal_arr = np.concatenate((timesteps_arr,neuron_arr), axis=2)\\nfinal_arr.shape\\n'"
      ]
     },
     "execution_count": 31,
     "metadata": {},
     "output_type": "execute_result"
    }
   ],
   "source": [
    "# TODO : Make a 3d numpy array from our pandas df\n",
    "# Shape = [samples, timestamps, features]\n",
    "\"\"\"\n",
    "timesteps_arr = dfx.iloc[:,1:].values\n",
    "timesteps_arr = timesteps_arr[..., np.newaxis]\n",
    "timesteps_arr.shape\n",
    "\n",
    "neuron_arr = dfx.iloc[:,0].values\n",
    "neuron_arr.shape\n",
    "\n",
    "neuron_arr = np.broadcast_to(neuron_arr[:,None,None], timesteps_arr.shape)\n",
    "final_arr = np.concatenate((timesteps_arr,neuron_arr), axis=2)\n",
    "final_arr.shape\n",
    "\"\"\""
   ]
  },
  {
   "cell_type": "markdown",
   "metadata": {},
   "source": [
    "# Model Training"
   ]
  },
  {
   "cell_type": "markdown",
   "metadata": {},
   "source": [
    "## References"
   ]
  },
  {
   "cell_type": "markdown",
   "metadata": {},
   "source": [
    "* Arxiv: [Neural activity classification with machine learning models trained oninterspike interval series data](https://arxiv.org/pdf/1810.03855.pdf) => PCA and KNN\n",
    "* Github: [PySpike: Python library to analyze spike Train](https://github.com/mariomulansky/PySpike) => Obscure mathematical measurements between spike trains\n",
    "* Profil: [Prof expert en spike train analysis](http://xtof.perso.math.cnrs.fr/)"
   ]
  },
  {
   "cell_type": "markdown",
   "metadata": {},
   "source": [
    "## Prepare experiment"
   ]
  },
  {
   "cell_type": "code",
   "execution_count": 32,
   "metadata": {},
   "outputs": [],
   "source": [
    "np.random.seed(42)\n",
    "tensorflow.set_random_seed(2)"
   ]
  },
  {
   "cell_type": "code",
   "execution_count": 115,
   "metadata": {},
   "outputs": [],
   "source": [
    "params = {\n",
    "    'name': \"XGB_Daddycool\",\n",
    "    'exclude_neuron_id': True,\n",
    "#    'balancing': None,\n",
    "    'balancing': None,\n",
    "    'standardize': True,\n",
    "    'differencing': True,\n",
    "    'get_tsfresh': True,\n",
    "    'get_ISI_SPIKE': False,\n",
    "    'RNN': False,\n",
    "    'class_weight': True,\n",
    "    'remove_low_variance': True,\n",
    "    'dropout': 0.2,\n",
    "    'batch_size': None,\n",
    "}"
   ]
  },
  {
   "cell_type": "code",
   "execution_count": 125,
   "metadata": {},
   "outputs": [],
   "source": [
    "def process_data(params):\n",
    "    global sel, scaler\n",
    "    sel = sklearn.feature_selection.VarianceThreshold(threshold=.02)\n",
    "    scaler = sklearn.preprocessing.StandardScaler()\n",
    "\n",
    "    if params['get_tsfresh']:\n",
    "        X = \"../data/features0607182541.csv\"\n",
    "        X_test = \"../data/features0607183651.csv\"\n",
    "    else:\n",
    "        X = dfx\n",
    "        X_test = dfx_test\n",
    "\n",
    "    X_train, y_train, X_val, y_val = getData(X, dfy, step=\"train\", **params)\n",
    "    X_test, _, _, _ = getData(X_test, dfy, step=\"test\", **params)\n",
    "    return X_train, y_train, X_val, y_val, X_test"
   ]
  },
  {
   "cell_type": "code",
   "execution_count": 126,
   "metadata": {},
   "outputs": [],
   "source": [
    "def predict(X_test, model):\n",
    "    # Predict on custom X_test\n",
    "    y_pred = model.predict(X_test)\n",
    "    y_pred = np.reshape(y_pred, (y_pred.shape[0],))\n",
    "    print (y_pred.shape)\n",
    "    \n",
    "    # Convert sigmoid output to 0s and 1s\n",
    "    y_pred[y_pred >= 0.5] = 1\n",
    "    y_pred[y_pred < 0.5] = 0\n",
    "  \n",
    "    # Format .csv in ENS style\n",
    "    dfy_pred = pd.DataFrame(data=y_pred, columns=[\"TARGET\"], dtype=int)\n",
    "    dfy_pred.index.name = \"ID\"\n",
    "    dfy_pred.index += 16635\n",
    "    return dfy_pred"
   ]
  },
  {
   "cell_type": "code",
   "execution_count": 127,
   "metadata": {},
   "outputs": [],
   "source": [
    "def evaluate(y_true, y_pred):\n",
    "    print(metrics.classification_report(y_true, y_pred))\n",
    "    print(metrics.cohen_kappa_score(y_true, y_pred))"
   ]
  },
  {
   "cell_type": "markdown",
   "metadata": {},
   "source": [
    "## Run training"
   ]
  },
  {
   "cell_type": "markdown",
   "metadata": {},
   "source": [
    "### Deep-Learning 1: blunt RNN"
   ]
  },
  {
   "cell_type": "code",
   "execution_count": 128,
   "metadata": {},
   "outputs": [],
   "source": [
    "X_train, y_train, X_val, y_val, X_test = process_data(params)"
   ]
  },
  {
   "cell_type": "markdown",
   "metadata": {},
   "source": [
    "* **Create and train model**"
   ]
  },
  {
   "cell_type": "code",
   "execution_count": 27,
   "metadata": {},
   "outputs": [
    {
     "name": "stdout",
     "output_type": "stream",
     "text": [
      "_________________________________________________________________\n",
      "Layer (type)                 Output Shape              Param #   \n",
      "=================================================================\n",
      "input_2 (InputLayer)         (None, 50, 1)             0         \n",
      "_________________________________________________________________\n",
      "lstm_3 (LSTM)                (None, 50, 256)           264192    \n",
      "_________________________________________________________________\n",
      "lstm_4 (LSTM)                (None, 256)               525312    \n",
      "_________________________________________________________________\n",
      "dense_2 (Dense)              (None, 1)                 257       \n",
      "=================================================================\n",
      "Total params: 789,761\n",
      "Trainable params: 789,761\n",
      "Non-trainable params: 0\n",
      "_________________________________________________________________\n"
     ]
    }
   ],
   "source": [
    "if params['get_tsfresh']:\n",
    "    timestep_nb = X_train[0].shape[1]\n",
    "else:\n",
    "    timestep_nb = X_train.shape[1]\n",
    "spike_per_ts = 1\n",
    "params['cell_nb'] = 256\n",
    "\n",
    "input_tensor = Input(shape=(timestep_nb, spike_per_ts))\n",
    "X = LSTM(params['cell_nb'], return_sequences=True, dropout=params['dropout'])(input_tensor)\n",
    "X = LSTM(params['cell_nb'], return_sequences=False)(X)\n",
    "\n",
    "if params['get_tsfresh']:\n",
    "    additional_features = X_train[1].shape[1]\n",
    "    fe_input = Input(shape=(additional_features,)) # A tensor containing the engineered features\n",
    "    latent = Dense(64, activation='relu')(fe_input)\n",
    "    latent = Dropout(rate=params['dropout'])(latent)\n",
    "    latent = Dense(32, activation='relu')(latent)\n",
    "    latent = Dropout(rate=params['dropout'])(latent)\n",
    "    input_tensor = [input_tensor, fe_input]\n",
    "    X = concatenate([X, latent])   \n",
    "    \n",
    "output_tensor = Dense(1, activation='sigmoid')(X)\n",
    "\n",
    "model = Model(input_tensor, output_tensor)\n",
    "model.summary()"
   ]
  },
  {
   "cell_type": "code",
   "execution_count": 130,
   "metadata": {},
   "outputs": [
    {
     "name": "stdout",
     "output_type": "stream",
     "text": [
      "Train on 21994 samples, validate on 2444 samples\n",
      "Epoch 1/5\n",
      "21994/21994 [==============================] - 332s 15ms/step - loss: 0.7106 - acc: 0.5495 - val_loss: 0.6847 - val_acc: 0.5884\n",
      "Epoch 2/5\n",
      "21994/21994 [==============================] - 316s 14ms/step - loss: 0.6805 - acc: 0.5651 - val_loss: 0.6820 - val_acc: 0.5626\n",
      "Epoch 3/5\n",
      "21994/21994 [==============================] - 319s 14ms/step - loss: 0.6764 - acc: 0.5768 - val_loss: 0.7023 - val_acc: 0.5704\n",
      "Epoch 4/5\n",
      "21994/21994 [==============================] - 321s 15ms/step - loss: 0.6673 - acc: 0.5913 - val_loss: 0.6197 - val_acc: 0.7152\n",
      "Epoch 5/5\n",
      "21994/21994 [==============================] - 325s 15ms/step - loss: 0.6625 - acc: 0.5998 - val_loss: 0.9303 - val_acc: 0.2725\n"
     ]
    }
   ],
   "source": [
    "if params[\"class_weight\"]:\n",
    "    class_weights = class_weight.compute_class_weight('balanced', np.unique(y_train), y_train)\n",
    "else:\n",
    "    class_weights = None\n",
    "if params[\"get_tsfresh\"]:\n",
    "    X_train=list(X_train)\n",
    "model.compile(metrics=['accuracy'], loss='mean_squared_error', optimizer='adam')\n",
    "history = model.fit(X_train, y_train, epochs=5, validation_split=0.1, class_weight=class_weights, batch_size=params['batch_size'])"
   ]
  },
  {
   "cell_type": "code",
   "execution_count": 131,
   "metadata": {},
   "outputs": [],
   "source": [
    "history_params = [\n",
    "    ('batch_size', history.params['batch_size']),\n",
    "    ('epochs', history.params['epochs']),\n",
    "    ('samples', history.params['samples']),\n",
    "    ('val_acc', history.history['val_acc'][-1])\n",
    "    ]\n",
    "\n",
    "params.update(history_params)"
   ]
  },
  {
   "cell_type": "markdown",
   "metadata": {},
   "source": [
    "* **Evaluate**"
   ]
  },
  {
   "cell_type": "code",
   "execution_count": 132,
   "metadata": {
    "scrolled": true
   },
   "outputs": [
    {
     "name": "stdout",
     "output_type": "stream",
     "text": [
      "(1664,)\n",
      "              precision    recall  f1-score   support\n",
      "\n",
      "           0       0.84      0.90      0.87      1358\n",
      "           1       0.37      0.25      0.30       306\n",
      "\n",
      "    accuracy                           0.78      1664\n",
      "   macro avg       0.61      0.58      0.59      1664\n",
      "weighted avg       0.76      0.78      0.77      1664\n",
      "\n",
      "0.17951415140856652\n"
     ]
    }
   ],
   "source": [
    "if params[\"get_tsfresh\"]:\n",
    "    X_val=list(X_val)\n",
    "dfy_val = predict(X_val, model)\n",
    "evaluate(y_val, dfy_val)"
   ]
  },
  {
   "cell_type": "markdown",
   "metadata": {},
   "source": [
    "* **Predict**"
   ]
  },
  {
   "cell_type": "code",
   "execution_count": null,
   "metadata": {},
   "outputs": [],
   "source": [
    "if params[\"get_tsfresh\"]:\n",
    "    X_test=list(X_test)\n",
    "dfy_pred = predict(X_test, model)\n",
    "dfy_pred[:15]"
   ]
  },
  {
   "cell_type": "markdown",
   "metadata": {},
   "source": [
    "### Domain-knowledge 1: Benchmark = differencing + tsfresh feature engineering + XGB"
   ]
  },
  {
   "cell_type": "code",
   "execution_count": 22,
   "metadata": {
    "scrolled": true
   },
   "outputs": [
    {
     "data": {
      "text/plain": [
       "\"\\nscores = []\\nfor split in np.arange(0.2, 1, 0.1):\\n    params['split'] = split\\n    X_train, y_train, X_val, y_val, X_test = process_data(params)\\n    print(X_train[1].shape)\\n    model.fit(X_train[1], y_train)\\n    dfy_val = predict(X_val[1], model)\\n    scores.append((metrics.f1_score(y_val, dfy_val), metrics.cohen_kappa_score(y_val, dfy_val)))\\n\""
      ]
     },
     "execution_count": 22,
     "metadata": {},
     "output_type": "execute_result"
    }
   ],
   "source": [
    "\"\"\"\n",
    "scores = []\n",
    "for split in np.arange(0.2, 1, 0.1):\n",
    "    params['split'] = split\n",
    "    X_train, y_train, X_val, y_val, X_test = process_data(params)\n",
    "    print(X_train[1].shape)\n",
    "    model.fit(X_train[1], y_train)\n",
    "    dfy_val = predict(X_val[1], model)\n",
    "    scores.append((metrics.f1_score(y_val, dfy_val), metrics.cohen_kappa_score(y_val, dfy_val)))\n",
    "\"\"\""
   ]
  },
  {
   "cell_type": "code",
   "execution_count": 23,
   "metadata": {},
   "outputs": [],
   "source": [
    "X_train, y_train, X_val, y_val, X_test = process_data(params)"
   ]
  },
  {
   "cell_type": "code",
   "execution_count": 24,
   "metadata": {},
   "outputs": [
    {
     "data": {
      "text/plain": [
       "(14971, 299)"
      ]
     },
     "execution_count": 24,
     "metadata": {},
     "output_type": "execute_result"
    }
   ],
   "source": [
    "X_train[1].shape"
   ]
  },
  {
   "cell_type": "markdown",
   "metadata": {},
   "source": [
    "* **Train XGB**"
   ]
  },
  {
   "cell_type": "code",
   "execution_count": 33,
   "metadata": {},
   "outputs": [],
   "source": [
    "if params['class_weight']:\n",
    "    scale_pos_weight = np.sum(y_train == 0)/ float(np.sum(y_train == 1))\n",
    "else:\n",
    "    scale_pos_weight = 1"
   ]
  },
  {
   "cell_type": "code",
   "execution_count": 34,
   "metadata": {},
   "outputs": [],
   "source": [
    "#XGB\n",
    "params_XGB = {\n",
    "        'min_child_weight': 1,\n",
    "        'gamma': 0.5,\n",
    "        'subsample': 0.8,\n",
    "        'colsample_bytree': 0.6,\n",
    "        'max_depth': 10,\n",
    "        'n_estimators': 200,\n",
    "        'learning_rate': 0.05,\n",
    "        'scale_pos_weight': scale_pos_weight\n",
    "        }\n",
    "model = xgb.XGBClassifier(objective=\"binary:logistic\", random_state=42, **params_XGB)\n",
    "\n",
    "#SVC\n",
    "#model = SVC(gamma='auto')"
   ]
  },
  {
   "cell_type": "code",
   "execution_count": 37,
   "metadata": {},
   "outputs": [
    {
     "name": "stdout",
     "output_type": "stream",
     "text": [
      "Fitting 3 folds for each of 1 candidates, totalling 3 fits\n",
      "[CV] subsample=0.8, min_child_weight=1, max_depth=10, gamma=0.5, colsample_bytree=0.6 \n",
      "[CV] subsample=0.8, min_child_weight=1, max_depth=10, gamma=0.5, colsample_bytree=0.6 \n",
      "[CV] subsample=0.8, min_child_weight=1, max_depth=10, gamma=0.5, colsample_bytree=0.6 \n",
      "[CV]  subsample=0.8, min_child_weight=1, max_depth=10, gamma=0.5, colsample_bytree=0.6, score=0.6922966857037711, total= 2.3min\n",
      "[CV]  subsample=0.8, min_child_weight=1, max_depth=10, gamma=0.5, colsample_bytree=0.6, score=0.6799077950628939, total= 2.3min\n",
      "[CV]  subsample=0.8, min_child_weight=1, max_depth=10, gamma=0.5, colsample_bytree=0.6, score=0.686167465563713, total= 2.3min\n"
     ]
    },
    {
     "name": "stderr",
     "output_type": "stream",
     "text": [
      "[Parallel(n_jobs=4)]: Done   3 out of   3 | elapsed:  2.3min finished\n"
     ]
    },
    {
     "data": {
      "text/plain": [
       "RandomizedSearchCV(cv=None, error_score='raise',\n",
       "          estimator=XGBClassifier(base_score=0.5, booster='gbtree', colsample_bylevel=1,\n",
       "       colsample_bytree=0.6, gamma=0.5, learning_rate=0.05,\n",
       "       max_delta_step=0, max_depth=10, min_child_weight=1, missing=None,\n",
       "       n_estimators=200, n_jobs=1, nthread=None,\n",
       "       objective='binary:logistic', random_state=42, reg_alpha=0,\n",
       "       reg_lambda=1, scale_pos_weight=4.440043604651163, seed=None,\n",
       "       silent=True, subsample=0.8),\n",
       "          fit_params=None, iid=True, n_iter=1, n_jobs=4,\n",
       "          param_distributions={'min_child_weight': [1], 'gamma': [0.5, 1], 'subsample': [0.8], 'colsample_bytree': [0.6], 'max_depth': [10]},\n",
       "          pre_dispatch='2*n_jobs', random_state=1001, refit=True,\n",
       "          return_train_score='warn', scoring='roc_auc', verbose=3)"
      ]
     },
     "execution_count": 37,
     "metadata": {},
     "output_type": "execute_result"
    }
   ],
   "source": [
    "params.update(model.get_params())\n",
    "params_XGB = {\n",
    "        'min_child_weight': [1],\n",
    "        'gamma': [0.5, 1],\n",
    "        'subsample': [0.8],\n",
    "        'colsample_bytree': [0.6],\n",
    "        'max_depth': [10]\n",
    "        }\n",
    "\"\"\"\n",
    "#search = RandomizedSearchCV(model, param_distributions=params_CV, rchandom_state=42,\n",
    "#                            n_iter=200, cv=3, verbose=1, n_jobs=4, return_train_score=True)\n",
    "\"\"\"\n",
    "search = RandomizedSearchCV(model, param_distributions=params_XGB, n_iter=1, scoring='roc_auc', n_jobs=4, \n",
    "                            verbose=3, random_state=1001 )\n",
    "\n",
    "search.fit(X_train[1], y_train)\n",
    "\n",
    "#model.fit(X_train[1], y_train, verbose=True)"
   ]
  },
  {
   "cell_type": "code",
   "execution_count": 38,
   "metadata": {},
   "outputs": [],
   "source": [
    "best_xgb= search.best_estimator_"
   ]
  },
  {
   "cell_type": "markdown",
   "metadata": {},
   "source": [
    "* **Train XGB**"
   ]
  },
  {
   "cell_type": "code",
   "execution_count": 28,
   "metadata": {},
   "outputs": [],
   "source": [
    "rf = RandomForestClassifier(n_estimators=100, max_depth=2,random_state=0, class_weight='balanced')"
   ]
  },
  {
   "cell_type": "code",
   "execution_count": 29,
   "metadata": {},
   "outputs": [],
   "source": [
    "# Number of trees in random forest\n",
    "n_estimators = [int(x) for x in np.linspace(start = 200, stop = 800, num = 10)]\n",
    "# Number of features to consider at every split\n",
    "max_features = ['auto', 'sqrt']\n",
    "# Maximum number of levels in tree\n",
    "max_depth = [int(x) for x in np.linspace(10, 110, num = 11)]\n",
    "max_depth.append(None)\n",
    "# Minimum number of samples required to split a node\n",
    "min_samples_split = [2, 5, 10]\n",
    "# Minimum number of samples required at each leaf node\n",
    "min_samples_leaf = [1, 2, 4]\n",
    "# Method of selecting samples for training each tree\n",
    "bootstrap = [True, False]\n",
    "\n",
    "# Create the random grid\n",
    "random_grid = {'n_estimators': n_estimators,\n",
    "               'max_features': max_features,\n",
    "               'max_depth': max_depth,\n",
    "               'min_samples_split': min_samples_split,\n",
    "               'min_samples_leaf': min_samples_leaf,\n",
    "               'bootstrap': bootstrap}"
   ]
  },
  {
   "cell_type": "code",
   "execution_count": 30,
   "metadata": {},
   "outputs": [
    {
     "name": "stdout",
     "output_type": "stream",
     "text": [
      "Fitting 3 folds for each of 10 candidates, totalling 30 fits\n",
      "[CV] n_estimators=200, min_samples_split=10, min_samples_leaf=2, max_features=sqrt, max_depth=50, bootstrap=True \n",
      "[CV] n_estimators=200, min_samples_split=10, min_samples_leaf=2, max_features=sqrt, max_depth=50, bootstrap=True \n",
      "[CV] n_estimators=200, min_samples_split=10, min_samples_leaf=2, max_features=sqrt, max_depth=50, bootstrap=True \n",
      "[CV] n_estimators=333, min_samples_split=10, min_samples_leaf=4, max_features=sqrt, max_depth=90, bootstrap=False \n",
      "[CV]  n_estimators=200, min_samples_split=10, min_samples_leaf=2, max_features=sqrt, max_depth=50, bootstrap=True, total=  44.7s\n",
      "[CV] n_estimators=333, min_samples_split=10, min_samples_leaf=4, max_features=sqrt, max_depth=90, bootstrap=False \n",
      "[CV]  n_estimators=200, min_samples_split=10, min_samples_leaf=2, max_features=sqrt, max_depth=50, bootstrap=True, total=  45.1s\n",
      "[CV] n_estimators=333, min_samples_split=10, min_samples_leaf=4, max_features=sqrt, max_depth=90, bootstrap=False \n",
      "[CV]  n_estimators=200, min_samples_split=10, min_samples_leaf=2, max_features=sqrt, max_depth=50, bootstrap=True, total=  45.3s\n",
      "[CV] n_estimators=333, min_samples_split=2, min_samples_leaf=2, max_features=auto, max_depth=60, bootstrap=False \n",
      "[CV]  n_estimators=333, min_samples_split=10, min_samples_leaf=4, max_features=sqrt, max_depth=90, bootstrap=False, total= 2.1min\n",
      "[CV] n_estimators=333, min_samples_split=2, min_samples_leaf=2, max_features=auto, max_depth=60, bootstrap=False \n",
      "[CV]  n_estimators=333, min_samples_split=10, min_samples_leaf=4, max_features=sqrt, max_depth=90, bootstrap=False, total= 2.1min\n",
      "[CV] n_estimators=333, min_samples_split=2, min_samples_leaf=2, max_features=auto, max_depth=60, bootstrap=False \n",
      "[CV]  n_estimators=333, min_samples_split=10, min_samples_leaf=4, max_features=sqrt, max_depth=90, bootstrap=False, total= 2.1min\n",
      "[CV] n_estimators=600, min_samples_split=5, min_samples_leaf=1, max_features=sqrt, max_depth=30, bootstrap=True \n",
      "[CV]  n_estimators=333, min_samples_split=2, min_samples_leaf=2, max_features=auto, max_depth=60, bootstrap=False, total= 2.2min\n",
      "[CV] n_estimators=600, min_samples_split=5, min_samples_leaf=1, max_features=sqrt, max_depth=30, bootstrap=True \n",
      "[CV]  n_estimators=333, min_samples_split=2, min_samples_leaf=2, max_features=auto, max_depth=60, bootstrap=False, total= 2.2min\n",
      "[CV] n_estimators=600, min_samples_split=5, min_samples_leaf=1, max_features=sqrt, max_depth=30, bootstrap=True \n",
      "[CV]  n_estimators=333, min_samples_split=2, min_samples_leaf=2, max_features=auto, max_depth=60, bootstrap=False, total= 2.2min\n",
      "[CV] n_estimators=466, min_samples_split=10, min_samples_leaf=1, max_features=auto, max_depth=80, bootstrap=False \n",
      "[CV]  n_estimators=600, min_samples_split=5, min_samples_leaf=1, max_features=sqrt, max_depth=30, bootstrap=True, total= 2.3min\n",
      "[CV] n_estimators=466, min_samples_split=10, min_samples_leaf=1, max_features=auto, max_depth=80, bootstrap=False \n",
      "[CV]  n_estimators=600, min_samples_split=5, min_samples_leaf=1, max_features=sqrt, max_depth=30, bootstrap=True, total= 2.4min\n",
      "[CV] n_estimators=466, min_samples_split=10, min_samples_leaf=1, max_features=auto, max_depth=80, bootstrap=False \n",
      "[CV]  n_estimators=600, min_samples_split=5, min_samples_leaf=1, max_features=sqrt, max_depth=30, bootstrap=True, total= 2.3min\n",
      "[CV] n_estimators=266, min_samples_split=10, min_samples_leaf=1, max_features=sqrt, max_depth=60, bootstrap=False \n",
      "[CV]  n_estimators=466, min_samples_split=10, min_samples_leaf=1, max_features=auto, max_depth=80, bootstrap=False, total= 3.0min\n",
      "[CV] n_estimators=266, min_samples_split=10, min_samples_leaf=1, max_features=sqrt, max_depth=60, bootstrap=False \n",
      "[CV]  n_estimators=466, min_samples_split=10, min_samples_leaf=1, max_features=auto, max_depth=80, bootstrap=False, total= 3.1min\n",
      "[CV] n_estimators=266, min_samples_split=10, min_samples_leaf=1, max_features=sqrt, max_depth=60, bootstrap=False \n",
      "[CV]  n_estimators=266, min_samples_split=10, min_samples_leaf=1, max_features=sqrt, max_depth=60, bootstrap=False, total= 1.7min\n",
      "[CV] n_estimators=800, min_samples_split=2, min_samples_leaf=2, max_features=auto, max_depth=50, bootstrap=False \n",
      "[CV]  n_estimators=466, min_samples_split=10, min_samples_leaf=1, max_features=auto, max_depth=80, bootstrap=False, total= 3.1min\n",
      "[CV] n_estimators=800, min_samples_split=2, min_samples_leaf=2, max_features=auto, max_depth=50, bootstrap=False \n",
      "[CV]  n_estimators=266, min_samples_split=10, min_samples_leaf=1, max_features=sqrt, max_depth=60, bootstrap=False, total= 1.8min\n",
      "[CV] n_estimators=800, min_samples_split=2, min_samples_leaf=2, max_features=auto, max_depth=50, bootstrap=False \n",
      "[CV]  n_estimators=266, min_samples_split=10, min_samples_leaf=1, max_features=sqrt, max_depth=60, bootstrap=False, total= 1.7min\n",
      "[CV] n_estimators=200, min_samples_split=5, min_samples_leaf=2, max_features=sqrt, max_depth=10, bootstrap=True \n",
      "[CV]  n_estimators=200, min_samples_split=5, min_samples_leaf=2, max_features=sqrt, max_depth=10, bootstrap=True, total=  33.6s\n",
      "[CV] n_estimators=200, min_samples_split=5, min_samples_leaf=2, max_features=sqrt, max_depth=10, bootstrap=True \n",
      "[CV]  n_estimators=200, min_samples_split=5, min_samples_leaf=2, max_features=sqrt, max_depth=10, bootstrap=True, total=  33.4s\n",
      "[CV] n_estimators=200, min_samples_split=5, min_samples_leaf=2, max_features=sqrt, max_depth=10, bootstrap=True \n",
      "[CV]  n_estimators=200, min_samples_split=5, min_samples_leaf=2, max_features=sqrt, max_depth=10, bootstrap=True, total=  33.4s\n",
      "[CV] n_estimators=533, min_samples_split=2, min_samples_leaf=4, max_features=auto, max_depth=100, bootstrap=True \n",
      "[CV]  n_estimators=800, min_samples_split=2, min_samples_leaf=2, max_features=auto, max_depth=50, bootstrap=False, total= 5.2min\n",
      "[CV] n_estimators=533, min_samples_split=2, min_samples_leaf=4, max_features=auto, max_depth=100, bootstrap=True \n",
      "[CV]  n_estimators=800, min_samples_split=2, min_samples_leaf=2, max_features=auto, max_depth=50, bootstrap=False, total= 5.3min\n",
      "[CV] n_estimators=533, min_samples_split=2, min_samples_leaf=4, max_features=auto, max_depth=100, bootstrap=True \n",
      "[CV]  n_estimators=533, min_samples_split=2, min_samples_leaf=4, max_features=auto, max_depth=100, bootstrap=True, total= 1.9min\n",
      "[CV] n_estimators=800, min_samples_split=5, min_samples_leaf=2, max_features=auto, max_depth=50, bootstrap=True \n",
      "[CV]  n_estimators=800, min_samples_split=2, min_samples_leaf=2, max_features=auto, max_depth=50, bootstrap=False, total= 5.2min\n",
      "[CV] n_estimators=800, min_samples_split=5, min_samples_leaf=2, max_features=auto, max_depth=50, bootstrap=True \n",
      "[CV]  n_estimators=533, min_samples_split=2, min_samples_leaf=4, max_features=auto, max_depth=100, bootstrap=True, total= 1.9min\n",
      "[CV] n_estimators=800, min_samples_split=5, min_samples_leaf=2, max_features=auto, max_depth=50, bootstrap=True \n",
      "[CV]  n_estimators=533, min_samples_split=2, min_samples_leaf=4, max_features=auto, max_depth=100, bootstrap=True, total= 1.9min\n",
      "[CV]  n_estimators=800, min_samples_split=5, min_samples_leaf=2, max_features=auto, max_depth=50, bootstrap=True, total= 2.8min\n",
      "[CV]  n_estimators=800, min_samples_split=5, min_samples_leaf=2, max_features=auto, max_depth=50, bootstrap=True, total= 2.3min\n",
      "[CV]  n_estimators=800, min_samples_split=5, min_samples_leaf=2, max_features=auto, max_depth=50, bootstrap=True, total= 2.1min\n"
     ]
    },
    {
     "name": "stderr",
     "output_type": "stream",
     "text": [
      "[Parallel(n_jobs=-1)]: Done  30 out of  30 | elapsed: 17.7min finished\n"
     ]
    },
    {
     "data": {
      "text/plain": [
       "RandomizedSearchCV(cv=3, error_score='raise',\n",
       "          estimator=RandomForestClassifier(bootstrap=True, class_weight='balanced',\n",
       "            criterion='gini', max_depth=2, max_features='auto',\n",
       "            max_leaf_nodes=None, min_impurity_decrease=0.0,\n",
       "            min_impurity_split=None, min_samples_leaf=1,\n",
       "            min_samples_split=2, min_weight_fraction_leaf=0.0,\n",
       "            n_estimators=100, n_jobs=1, oob_score=False, random_state=0,\n",
       "            verbose=0, warm_start=False),\n",
       "          fit_params=None, iid=True, n_iter=10, n_jobs=-1,\n",
       "          param_distributions={'n_estimators': [200, 266, 333, 400, 466, 533, 600, 666, 733, 800], 'max_features': ['auto', 'sqrt'], 'max_depth': [10, 20, 30, 40, 50, 60, 70, 80, 90, 100, 110, None], 'min_samples_split': [2, 5, 10], 'min_samples_leaf': [1, 2, 4], 'bootstrap': [True, False]},\n",
       "          pre_dispatch='2*n_jobs', random_state=42, refit=True,\n",
       "          return_train_score='warn', scoring='roc_auc', verbose=2)"
      ]
     },
     "execution_count": 30,
     "metadata": {},
     "output_type": "execute_result"
    }
   ],
   "source": [
    "rf_random = RandomizedSearchCV(estimator = rf, param_distributions = random_grid, n_iter = 10, cv = 3, verbose=2, random_state=42, n_jobs = -1, scoring='roc_auc')\n",
    "rf_random.fit(X_train[1], y_train)"
   ]
  },
  {
   "cell_type": "code",
   "execution_count": 31,
   "metadata": {},
   "outputs": [],
   "source": [
    "best_random = rf_random.best_estimator_"
   ]
  },
  {
   "cell_type": "markdown",
   "metadata": {},
   "source": [
    "* **Predict**"
   ]
  },
  {
   "cell_type": "code",
   "execution_count": 52,
   "metadata": {},
   "outputs": [
    {
     "name": "stdout",
     "output_type": "stream",
     "text": [
      "(11969,)\n"
     ]
    },
    {
     "name": "stderr",
     "output_type": "stream",
     "text": [
      "/anaconda3/lib/python3.6/site-packages/sklearn/preprocessing/label.py:151: DeprecationWarning: The truth value of an empty array is ambiguous. Returning False, but in future this will result in an error. Use `array.size > 0` to check that an array is not empty.\n",
      "  if diff:\n"
     ]
    }
   ],
   "source": [
    "dfy_pred = predict(X_test[1], model)"
   ]
  },
  {
   "cell_type": "markdown",
   "metadata": {},
   "source": [
    "* **Evaluate**"
   ]
  },
  {
   "cell_type": "code",
   "execution_count": 39,
   "metadata": {
    "scrolled": true
   },
   "outputs": [
    {
     "name": "stdout",
     "output_type": "stream",
     "text": [
      "(1664,)\n",
      "             precision    recall  f1-score   support\n",
      "\n",
      "          0       0.84      0.96      0.90      1358\n",
      "          1       0.50      0.19      0.28       306\n",
      "\n",
      "avg / total       0.78      0.82      0.78      1664\n",
      "\n",
      "0.1973024097376429\n"
     ]
    },
    {
     "name": "stderr",
     "output_type": "stream",
     "text": [
      "/anaconda3/lib/python3.6/site-packages/sklearn/preprocessing/label.py:151: DeprecationWarning: The truth value of an empty array is ambiguous. Returning False, but in future this will result in an error. Use `array.size > 0` to check that an array is not empty.\n",
      "  if diff:\n"
     ]
    }
   ],
   "source": [
    "dfy_val = predict(X_val[1], best_xgb)\n",
    "evaluate(y_val, dfy_val)"
   ]
  },
  {
   "cell_type": "code",
   "execution_count": 44,
   "metadata": {},
   "outputs": [
    {
     "data": {
      "image/png": "[encoded data removed]",
      "text/plain": [
       "<Figure size 432x288 with 1 Axes>"
      ]
     },
     "metadata": {},
     "output_type": "display_data"
    }
   ],
   "source": [
    "from matplotlib import pyplot\n",
    "pyplot.bar(range(len(best_xgb.feature_importances_)), best_xgb.feature_importances_)\n",
    "pyplot.show()"
   ]
  },
  {
   "cell_type": "code",
   "execution_count": 50,
   "metadata": {},
   "outputs": [
    {
     "data": {
      "text/plain": [
       "[0.004966565,\n",
       " 0.0050669974,\n",
       " 0.005114698,\n",
       " 0.0051739765,\n",
       " 0.005341948,\n",
       " 0.00537817,\n",
       " 0.0055930717,\n",
       " 0.006246459,\n",
       " 0.0062684305,\n",
       " 0.006359029,\n",
       " 0.0063996706,\n",
       " 0.006559251,\n",
       " 0.00663712,\n",
       " 0.0066510984,\n",
       " 0.006849175,\n",
       " 0.007540483,\n",
       " 0.0077390084,\n",
       " 0.010071776,\n",
       " 0.010393788,\n",
       " 0.011467553]"
      ]
     },
     "execution_count": 50,
     "metadata": {},
     "output_type": "execute_result"
    }
   ],
   "source": [
    "thresholds = sorted(best_xgb.feature_importances_)\n",
    "thresh = thresholds[-20]\n",
    "selection = SelectFromModel(best_xgb, threshold=thresh, prefit=True)\n",
    "select_X_train = selection.transform(X_train)"
   ]
  },
  {
   "cell_type": "markdown",
   "metadata": {},
   "source": [
    "### Domain-knowledge 2: KNN with SPIKE- and ISI- synchronization distances"
   ]
  },
  {
   "cell_type": "markdown",
   "metadata": {},
   "source": [
    "## Save Results"
   ]
  },
  {
   "cell_type": "code",
   "execution_count": 35,
   "metadata": {},
   "outputs": [
    {
     "data": {
      "text/plain": [
       "'../experiments/0619010856'"
      ]
     },
     "execution_count": 35,
     "metadata": {},
     "output_type": "execute_result"
    }
   ],
   "source": [
    "def saveExp(dfy_pred, model, params):\n",
    "    \"\"\" Create directory in which to save predictions, experiment parameters and model object. \"\"\"\n",
    "\n",
    "    directory = \"../experiments/{}\".format(datetime.datetime.now().strftime(\"%m%d%H%M%S\"))\n",
    "    if not os.path.exists(directory):\n",
    "        os.makedirs(directory)\n",
    "\n",
    "    dfy_pred.to_csv(directory + '/y_pred.csv', sep=',')\n",
    "    \n",
    "    joblib.dump(model, directory + '/model.h5')\n",
    "    \n",
    "    columns = []\n",
    "    values = []\n",
    "    for k, v in params.items():\n",
    "        columns.append(k)\n",
    "        values.append(v)\n",
    "    params_df = pd.DataFrame(data=[values], columns=columns)\n",
    "    params_df.to_csv(directory + '/params.csv', sep=';')\n",
    "    return directory\n",
    "\n",
    "# Save model\n",
    "saveExp(dfy_pred, model, params)"
   ]
  },
  {
   "cell_type": "markdown",
   "metadata": {},
   "source": [
    "## Load Model"
   ]
  },
  {
   "cell_type": "code",
   "execution_count": 301,
   "metadata": {},
   "outputs": [
    {
     "name": "stdout",
     "output_type": "stream",
     "text": [
      "__________________________________________________________________________________________________\n",
      "Layer (type)                    Output Shape         Param #     Connected to                     \n",
      "==================================================================================================\n",
      "input_20 (InputLayer)           (None, 50, 1)        0                                            \n",
      "__________________________________________________________________________________________________\n",
      "input_21 (InputLayer)           (None, 382)          0                                            \n",
      "__________________________________________________________________________________________________\n",
      "lstm_11 (LSTM)                  (None, 128)          66560       input_20[0][0]                   \n",
      "__________________________________________________________________________________________________\n",
      "dense_14 (Dense)                (None, 32)           12256       input_21[0][0]                   \n",
      "__________________________________________________________________________________________________\n",
      "concatenate_5 (Concatenate)     (None, 160)          0           lstm_11[0][0]                    \n",
      "                                                                 dense_14[0][0]                   \n",
      "__________________________________________________________________________________________________\n",
      "dense_15 (Dense)                (None, 1)            161         concatenate_5[0][0]              \n",
      "==================================================================================================\n",
      "Total params: 78,977\n",
      "Trainable params: 78,977\n",
      "Non-trainable params: 0\n",
      "__________________________________________________________________________________________________\n",
      "(5963, 50, 1)\n",
      "{'': '0', 'name': 'RF_vanilla', 'exclude_neuron_id': True, 'balancing': 'undersample', 'standardize': True, 'differencing': True, 'get_tsfresh': True, 'get_ISI_SPIKE': False, 'RNN': False, 'C': '1.0', 'cache_size': '200', 'class_weight': '', 'coef0': '0.0', 'decision_function_shape': 'ovr', 'degree': '3', 'gamma': 'auto', 'kernel': 'rbf', 'max_iter': '-1', 'probability': False, 'random_state': '', 'shrinking': True, 'tol': '0.001', 'verbose': False}\n"
     ]
    },
    {
     "ename": "AttributeError",
     "evalue": "'tuple' object has no attribute 'ndim'",
     "output_type": "error",
     "traceback": [
      "\u001b[0;31m---------------------------------------------------------------------------\u001b[0m",
      "\u001b[0;31mAttributeError\u001b[0m                            Traceback (most recent call last)",
      "\u001b[0;32m<ipython-input-301-10985a3e444f>\u001b[0m in \u001b[0;36m<module>\u001b[0;34m()\u001b[0m\n\u001b[1;32m     28\u001b[0m         \u001b[0mevaluate\u001b[0m\u001b[0;34m(\u001b[0m\u001b[0mmodel\u001b[0m\u001b[0;34m)\u001b[0m\u001b[0;34m\u001b[0m\u001b[0m\n\u001b[1;32m     29\u001b[0m \u001b[0;34m\u001b[0m\u001b[0m\n\u001b[0;32m---> 30\u001b[0;31m \u001b[0mload_exp\u001b[0m\u001b[0;34m(\u001b[0m\u001b[0;34m)\u001b[0m\u001b[0;34m\u001b[0m\u001b[0m\n\u001b[0m",
      "\u001b[0;32m<ipython-input-301-10985a3e444f>\u001b[0m in \u001b[0;36mload_exp\u001b[0;34m()\u001b[0m\n\u001b[1;32m     25\u001b[0m         \u001b[0mprint\u001b[0m\u001b[0;34m(\u001b[0m\u001b[0mparams\u001b[0m\u001b[0;34m)\u001b[0m\u001b[0;34m\u001b[0m\u001b[0m\n\u001b[1;32m     26\u001b[0m \u001b[0;34m\u001b[0m\u001b[0m\n\u001b[0;32m---> 27\u001b[0;31m         \u001b[0mdfy_val\u001b[0m \u001b[0;34m=\u001b[0m \u001b[0mpredict\u001b[0m\u001b[0;34m(\u001b[0m\u001b[0mX_val\u001b[0m\u001b[0;34m,\u001b[0m \u001b[0mmodel\u001b[0m\u001b[0;34m)\u001b[0m\u001b[0;34m\u001b[0m\u001b[0m\n\u001b[0m\u001b[1;32m     28\u001b[0m         \u001b[0mevaluate\u001b[0m\u001b[0;34m(\u001b[0m\u001b[0mmodel\u001b[0m\u001b[0;34m)\u001b[0m\u001b[0;34m\u001b[0m\u001b[0m\n\u001b[1;32m     29\u001b[0m \u001b[0;34m\u001b[0m\u001b[0m\n",
      "\u001b[0;32m<ipython-input-296-20dd024b6af5>\u001b[0m in \u001b[0;36mpredict\u001b[0;34m(X_test, model)\u001b[0m\n\u001b[1;32m      1\u001b[0m \u001b[0;32mdef\u001b[0m \u001b[0mpredict\u001b[0m\u001b[0;34m(\u001b[0m\u001b[0mX_test\u001b[0m\u001b[0;34m,\u001b[0m \u001b[0mmodel\u001b[0m\u001b[0;34m)\u001b[0m\u001b[0;34m:\u001b[0m\u001b[0;34m\u001b[0m\u001b[0m\n\u001b[1;32m      2\u001b[0m     \u001b[0;31m# Predict on custom X_test\u001b[0m\u001b[0;34m\u001b[0m\u001b[0;34m\u001b[0m\u001b[0m\n\u001b[0;32m----> 3\u001b[0;31m     \u001b[0my_pred\u001b[0m \u001b[0;34m=\u001b[0m \u001b[0mmodel\u001b[0m\u001b[0;34m.\u001b[0m\u001b[0mpredict\u001b[0m\u001b[0;34m(\u001b[0m\u001b[0mX_test\u001b[0m\u001b[0;34m)\u001b[0m\u001b[0;34m\u001b[0m\u001b[0m\n\u001b[0m\u001b[1;32m      4\u001b[0m     \u001b[0my_pred\u001b[0m \u001b[0;34m=\u001b[0m \u001b[0mnp\u001b[0m\u001b[0;34m.\u001b[0m\u001b[0mreshape\u001b[0m\u001b[0;34m(\u001b[0m\u001b[0my_pred\u001b[0m\u001b[0;34m,\u001b[0m \u001b[0;34m(\u001b[0m\u001b[0my_pred\u001b[0m\u001b[0;34m.\u001b[0m\u001b[0mshape\u001b[0m\u001b[0;34m[\u001b[0m\u001b[0;36m0\u001b[0m\u001b[0;34m]\u001b[0m\u001b[0;34m,\u001b[0m\u001b[0;34m)\u001b[0m\u001b[0;34m)\u001b[0m\u001b[0;34m\u001b[0m\u001b[0m\n\u001b[1;32m      5\u001b[0m     \u001b[0mprint\u001b[0m \u001b[0;34m(\u001b[0m\u001b[0my_pred\u001b[0m\u001b[0;34m.\u001b[0m\u001b[0mshape\u001b[0m\u001b[0;34m)\u001b[0m\u001b[0;34m\u001b[0m\u001b[0m\n",
      "\u001b[0;32m/anaconda3/lib/python3.6/site-packages/keras/engine/training.py\u001b[0m in \u001b[0;36mpredict\u001b[0;34m(self, x, batch_size, verbose, steps)\u001b[0m\n\u001b[1;32m   1147\u001b[0m                              'argument.')\n\u001b[1;32m   1148\u001b[0m         \u001b[0;31m# Validate user data.\u001b[0m\u001b[0;34m\u001b[0m\u001b[0;34m\u001b[0m\u001b[0m\n\u001b[0;32m-> 1149\u001b[0;31m         \u001b[0mx\u001b[0m\u001b[0;34m,\u001b[0m \u001b[0m_\u001b[0m\u001b[0;34m,\u001b[0m \u001b[0m_\u001b[0m \u001b[0;34m=\u001b[0m \u001b[0mself\u001b[0m\u001b[0;34m.\u001b[0m\u001b[0m_standardize_user_data\u001b[0m\u001b[0;34m(\u001b[0m\u001b[0mx\u001b[0m\u001b[0;34m)\u001b[0m\u001b[0;34m\u001b[0m\u001b[0m\n\u001b[0m\u001b[1;32m   1150\u001b[0m         \u001b[0;32mif\u001b[0m \u001b[0mself\u001b[0m\u001b[0;34m.\u001b[0m\u001b[0mstateful\u001b[0m\u001b[0;34m:\u001b[0m\u001b[0;34m\u001b[0m\u001b[0m\n\u001b[1;32m   1151\u001b[0m             \u001b[0;32mif\u001b[0m \u001b[0mx\u001b[0m\u001b[0;34m[\u001b[0m\u001b[0;36m0\u001b[0m\u001b[0;34m]\u001b[0m\u001b[0;34m.\u001b[0m\u001b[0mshape\u001b[0m\u001b[0;34m[\u001b[0m\u001b[0;36m0\u001b[0m\u001b[0;34m]\u001b[0m \u001b[0;34m>\u001b[0m \u001b[0mbatch_size\u001b[0m \u001b[0;32mand\u001b[0m \u001b[0mx\u001b[0m\u001b[0;34m[\u001b[0m\u001b[0;36m0\u001b[0m\u001b[0;34m]\u001b[0m\u001b[0;34m.\u001b[0m\u001b[0mshape\u001b[0m\u001b[0;34m[\u001b[0m\u001b[0;36m0\u001b[0m\u001b[0;34m]\u001b[0m \u001b[0;34m%\u001b[0m \u001b[0mbatch_size\u001b[0m \u001b[0;34m!=\u001b[0m \u001b[0;36m0\u001b[0m\u001b[0;34m:\u001b[0m\u001b[0;34m\u001b[0m\u001b[0m\n",
      "\u001b[0;32m/anaconda3/lib/python3.6/site-packages/keras/engine/training.py\u001b[0m in \u001b[0;36m_standardize_user_data\u001b[0;34m(self, x, y, sample_weight, class_weight, check_array_lengths, batch_size)\u001b[0m\n\u001b[1;32m    749\u001b[0m             \u001b[0mfeed_input_shapes\u001b[0m\u001b[0;34m,\u001b[0m\u001b[0;34m\u001b[0m\u001b[0m\n\u001b[1;32m    750\u001b[0m             \u001b[0mcheck_batch_axis\u001b[0m\u001b[0;34m=\u001b[0m\u001b[0;32mFalse\u001b[0m\u001b[0;34m,\u001b[0m  \u001b[0;31m# Don't enforce the batch size.\u001b[0m\u001b[0;34m\u001b[0m\u001b[0m\n\u001b[0;32m--> 751\u001b[0;31m             exception_prefix='input')\n\u001b[0m\u001b[1;32m    752\u001b[0m \u001b[0;34m\u001b[0m\u001b[0m\n\u001b[1;32m    753\u001b[0m         \u001b[0;32mif\u001b[0m \u001b[0my\u001b[0m \u001b[0;32mis\u001b[0m \u001b[0;32mnot\u001b[0m \u001b[0;32mNone\u001b[0m\u001b[0;34m:\u001b[0m\u001b[0;34m\u001b[0m\u001b[0m\n",
      "\u001b[0;32m/anaconda3/lib/python3.6/site-packages/keras/engine/training_utils.py\u001b[0m in \u001b[0;36mstandardize_input_data\u001b[0;34m(data, names, shapes, check_batch_axis, exception_prefix)\u001b[0m\n\u001b[1;32m     90\u001b[0m         \u001b[0mdata\u001b[0m \u001b[0;34m=\u001b[0m \u001b[0mdata\u001b[0m\u001b[0;34m.\u001b[0m\u001b[0mvalues\u001b[0m \u001b[0;32mif\u001b[0m \u001b[0mdata\u001b[0m\u001b[0;34m.\u001b[0m\u001b[0m__class__\u001b[0m\u001b[0;34m.\u001b[0m\u001b[0m__name__\u001b[0m \u001b[0;34m==\u001b[0m \u001b[0;34m'DataFrame'\u001b[0m \u001b[0;32melse\u001b[0m \u001b[0mdata\u001b[0m\u001b[0;34m\u001b[0m\u001b[0m\n\u001b[1;32m     91\u001b[0m         \u001b[0mdata\u001b[0m \u001b[0;34m=\u001b[0m \u001b[0;34m[\u001b[0m\u001b[0mdata\u001b[0m\u001b[0;34m]\u001b[0m\u001b[0;34m\u001b[0m\u001b[0m\n\u001b[0;32m---> 92\u001b[0;31m     \u001b[0mdata\u001b[0m \u001b[0;34m=\u001b[0m \u001b[0;34m[\u001b[0m\u001b[0mstandardize_single_array\u001b[0m\u001b[0;34m(\u001b[0m\u001b[0mx\u001b[0m\u001b[0;34m)\u001b[0m \u001b[0;32mfor\u001b[0m \u001b[0mx\u001b[0m \u001b[0;32min\u001b[0m \u001b[0mdata\u001b[0m\u001b[0;34m]\u001b[0m\u001b[0;34m\u001b[0m\u001b[0m\n\u001b[0m\u001b[1;32m     93\u001b[0m \u001b[0;34m\u001b[0m\u001b[0m\n\u001b[1;32m     94\u001b[0m     \u001b[0;32mif\u001b[0m \u001b[0mlen\u001b[0m\u001b[0;34m(\u001b[0m\u001b[0mdata\u001b[0m\u001b[0;34m)\u001b[0m \u001b[0;34m!=\u001b[0m \u001b[0mlen\u001b[0m\u001b[0;34m(\u001b[0m\u001b[0mnames\u001b[0m\u001b[0;34m)\u001b[0m\u001b[0;34m:\u001b[0m\u001b[0;34m\u001b[0m\u001b[0m\n",
      "\u001b[0;32m/anaconda3/lib/python3.6/site-packages/keras/engine/training_utils.py\u001b[0m in \u001b[0;36m<listcomp>\u001b[0;34m(.0)\u001b[0m\n\u001b[1;32m     90\u001b[0m         \u001b[0mdata\u001b[0m \u001b[0;34m=\u001b[0m \u001b[0mdata\u001b[0m\u001b[0;34m.\u001b[0m\u001b[0mvalues\u001b[0m \u001b[0;32mif\u001b[0m \u001b[0mdata\u001b[0m\u001b[0;34m.\u001b[0m\u001b[0m__class__\u001b[0m\u001b[0;34m.\u001b[0m\u001b[0m__name__\u001b[0m \u001b[0;34m==\u001b[0m \u001b[0;34m'DataFrame'\u001b[0m \u001b[0;32melse\u001b[0m \u001b[0mdata\u001b[0m\u001b[0;34m\u001b[0m\u001b[0m\n\u001b[1;32m     91\u001b[0m         \u001b[0mdata\u001b[0m \u001b[0;34m=\u001b[0m \u001b[0;34m[\u001b[0m\u001b[0mdata\u001b[0m\u001b[0;34m]\u001b[0m\u001b[0;34m\u001b[0m\u001b[0m\n\u001b[0;32m---> 92\u001b[0;31m     \u001b[0mdata\u001b[0m \u001b[0;34m=\u001b[0m \u001b[0;34m[\u001b[0m\u001b[0mstandardize_single_array\u001b[0m\u001b[0;34m(\u001b[0m\u001b[0mx\u001b[0m\u001b[0;34m)\u001b[0m \u001b[0;32mfor\u001b[0m \u001b[0mx\u001b[0m \u001b[0;32min\u001b[0m \u001b[0mdata\u001b[0m\u001b[0;34m]\u001b[0m\u001b[0;34m\u001b[0m\u001b[0m\n\u001b[0m\u001b[1;32m     93\u001b[0m \u001b[0;34m\u001b[0m\u001b[0m\n\u001b[1;32m     94\u001b[0m     \u001b[0;32mif\u001b[0m \u001b[0mlen\u001b[0m\u001b[0;34m(\u001b[0m\u001b[0mdata\u001b[0m\u001b[0;34m)\u001b[0m \u001b[0;34m!=\u001b[0m \u001b[0mlen\u001b[0m\u001b[0;34m(\u001b[0m\u001b[0mnames\u001b[0m\u001b[0;34m)\u001b[0m\u001b[0;34m:\u001b[0m\u001b[0;34m\u001b[0m\u001b[0m\n",
      "\u001b[0;32m/anaconda3/lib/python3.6/site-packages/keras/engine/training_utils.py\u001b[0m in \u001b[0;36mstandardize_single_array\u001b[0;34m(x)\u001b[0m\n\u001b[1;32m     25\u001b[0m                 'Got tensor with shape: %s' % str(shape))\n\u001b[1;32m     26\u001b[0m         \u001b[0;32mreturn\u001b[0m \u001b[0mx\u001b[0m\u001b[0;34m\u001b[0m\u001b[0m\n\u001b[0;32m---> 27\u001b[0;31m     \u001b[0;32melif\u001b[0m \u001b[0mx\u001b[0m\u001b[0;34m.\u001b[0m\u001b[0mndim\u001b[0m \u001b[0;34m==\u001b[0m \u001b[0;36m1\u001b[0m\u001b[0;34m:\u001b[0m\u001b[0;34m\u001b[0m\u001b[0m\n\u001b[0m\u001b[1;32m     28\u001b[0m         \u001b[0mx\u001b[0m \u001b[0;34m=\u001b[0m \u001b[0mnp\u001b[0m\u001b[0;34m.\u001b[0m\u001b[0mexpand_dims\u001b[0m\u001b[0;34m(\u001b[0m\u001b[0mx\u001b[0m\u001b[0;34m,\u001b[0m \u001b[0;36m1\u001b[0m\u001b[0;34m)\u001b[0m\u001b[0;34m\u001b[0m\u001b[0m\n\u001b[1;32m     29\u001b[0m     \u001b[0;32mreturn\u001b[0m \u001b[0mx\u001b[0m\u001b[0;34m\u001b[0m\u001b[0m\n",
      "\u001b[0;31mAttributeError\u001b[0m: 'tuple' object has no attribute 'ndim'"
     ]
    }
   ],
   "source": [
    "def load_exp():\n",
    "    \"\"\" Reproduce saved experience from a directory: load dataset, model, predict on x_test and evaluate. \"\"\"\n",
    "    \n",
    "    for xp in os.scandir(\"../experiments\"):\n",
    "    \n",
    "        if not xp.is_dir():\n",
    "            continue\n",
    "        \n",
    "        model_path, params_path, y_pred_path = sorted(os.scandir(xp.path), key=lambda x: (x.is_dir(), x.name))\n",
    "        model = load_model(model_path.path)\n",
    "        model.summary()\n",
    "        \n",
    "        with open(params_path, mode='r') as infile:\n",
    "            reader = csv.reader(infile, delimiter=';')\n",
    "            keys, values = reader\n",
    "        params = {keys[ix]:values[ix] for ix in range(len(keys))}\n",
    "        for k, v in params.items():\n",
    "            if v == 'True' or v == 'False':\n",
    "                params[k] = v == 'True'\n",
    "        X_train, y_train, X_val, y_val, X_test = process_data(params)\n",
    "        if isinstance(X_train, tuple):\n",
    "            print(X_train[0].shape)\n",
    "        else:\n",
    "            print(X_train.shape)\n",
    "        print(params)\n",
    "        \n",
    "        dfy_val = predict(X_val, model)\n",
    "        evaluate(model)\n",
    "        \n",
    "load_exp()"
   ]
  },
  {
   "cell_type": "code",
   "execution_count": null,
   "metadata": {},
   "outputs": [],
   "source": []
  }
 ],
 "metadata": {
  "kernelspec": {
   "display_name": "Python 3",
   "language": "python",
   "name": "python3"
  },
  "language_info": {
   "codemirror_mode": {
    "name": "ipython",
    "version": 3
   },
   "file_extension": ".py",
   "mimetype": "text/x-python",
   "name": "python",
   "nbconvert_exporter": "python",
   "pygments_lexer": "ipython3",
   "version": "3.7.3"
  }
 },
 "nbformat": 4,
 "nbformat_minor": 2
}
