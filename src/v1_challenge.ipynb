{
 "cells": [
  {
   "cell_type": "markdown",
   "metadata": {},
   "source": [
    "# Introduction"
   ]
  },
  {
   "cell_type": "code",
   "execution_count": 1,
   "metadata": {},
   "outputs": [
    {
     "name": "stderr",
     "output_type": "stream",
     "text": [
      "/anaconda3/lib/python3.6/site-packages/h5py/__init__.py:36: FutureWarning: Conversion of the second argument of issubdtype from `float` to `np.floating` is deprecated. In future, it will be treated as `np.float64 == np.dtype(float).type`.\n",
      "  from ._conv import register_converters as _register_converters\n",
      "Using TensorFlow backend.\n"
     ]
    }
   ],
   "source": [
    "import pandas as pd\n",
    "import matplotlib.pyplot as plt\n",
    "import keras\n",
    "import numpy as np\n",
    "from keras.models import Model\n",
    "from keras.layers import Dense\n",
    "from keras.layers import Input, Activation, Dense, Dropout, Flatten, Lambda, LSTM, GRU\n",
    "from sklearn.metrics import cohen_kappa_score"
   ]
  },
  {
   "cell_type": "markdown",
   "metadata": {},
   "source": [
    "# Data Importation"
   ]
  },
  {
   "cell_type": "code",
   "execution_count": 2,
   "metadata": {},
   "outputs": [],
   "source": [
    "dfx = pd.read_csv('../data/x_train.csv').set_index('ID')\n",
    "dfy = pd.read_csv('../data/y_train.csv').set_index('ID')\n",
    "dfx_test = pd.read_csv('../data/x_test.csv').set_index('ID')"
   ]
  },
  {
   "cell_type": "code",
   "execution_count": 3,
   "metadata": {},
   "outputs": [
    {
     "data": {
      "text/html": [
       "<div>\n",
       "<style scoped>\n",
       "    .dataframe tbody tr th:only-of-type {\n",
       "        vertical-align: middle;\n",
       "    }\n",
       "\n",
       "    .dataframe tbody tr th {\n",
       "        vertical-align: top;\n",
       "    }\n",
       "\n",
       "    .dataframe thead th {\n",
       "        text-align: right;\n",
       "    }\n",
       "</style>\n",
       "<table border=\"1\" class=\"dataframe\">\n",
       "  <thead>\n",
       "    <tr style=\"text-align: right;\">\n",
       "      <th></th>\n",
       "      <th>neuron_id</th>\n",
       "      <th>timestamp_0</th>\n",
       "      <th>timestamp_1</th>\n",
       "      <th>timestamp_2</th>\n",
       "      <th>timestamp_3</th>\n",
       "      <th>timestamp_4</th>\n",
       "      <th>timestamp_5</th>\n",
       "      <th>timestamp_6</th>\n",
       "      <th>timestamp_7</th>\n",
       "      <th>timestamp_8</th>\n",
       "      <th>...</th>\n",
       "      <th>timestamp_40</th>\n",
       "      <th>timestamp_41</th>\n",
       "      <th>timestamp_42</th>\n",
       "      <th>timestamp_43</th>\n",
       "      <th>timestamp_44</th>\n",
       "      <th>timestamp_45</th>\n",
       "      <th>timestamp_46</th>\n",
       "      <th>timestamp_47</th>\n",
       "      <th>timestamp_48</th>\n",
       "      <th>timestamp_49</th>\n",
       "    </tr>\n",
       "    <tr>\n",
       "      <th>ID</th>\n",
       "      <th></th>\n",
       "      <th></th>\n",
       "      <th></th>\n",
       "      <th></th>\n",
       "      <th></th>\n",
       "      <th></th>\n",
       "      <th></th>\n",
       "      <th></th>\n",
       "      <th></th>\n",
       "      <th></th>\n",
       "      <th></th>\n",
       "      <th></th>\n",
       "      <th></th>\n",
       "      <th></th>\n",
       "      <th></th>\n",
       "      <th></th>\n",
       "      <th></th>\n",
       "      <th></th>\n",
       "      <th></th>\n",
       "      <th></th>\n",
       "      <th></th>\n",
       "    </tr>\n",
       "  </thead>\n",
       "  <tbody>\n",
       "    <tr>\n",
       "      <th>0</th>\n",
       "      <td>53</td>\n",
       "      <td>0.166262</td>\n",
       "      <td>0.170520</td>\n",
       "      <td>0.176371</td>\n",
       "      <td>0.197565</td>\n",
       "      <td>0.212814</td>\n",
       "      <td>0.957631</td>\n",
       "      <td>1.177679</td>\n",
       "      <td>3.207268</td>\n",
       "      <td>3.213602</td>\n",
       "      <td>...</td>\n",
       "      <td>14.700766</td>\n",
       "      <td>15.856531</td>\n",
       "      <td>15.906414</td>\n",
       "      <td>15.910547</td>\n",
       "      <td>16.079702</td>\n",
       "      <td>16.516175</td>\n",
       "      <td>16.988851</td>\n",
       "      <td>16.996101</td>\n",
       "      <td>17.019988</td>\n",
       "      <td>17.056403</td>\n",
       "    </tr>\n",
       "    <tr>\n",
       "      <th>1</th>\n",
       "      <td>7229</td>\n",
       "      <td>0.053270</td>\n",
       "      <td>0.133652</td>\n",
       "      <td>0.161603</td>\n",
       "      <td>0.530531</td>\n",
       "      <td>0.692537</td>\n",
       "      <td>0.730291</td>\n",
       "      <td>0.784066</td>\n",
       "      <td>1.023311</td>\n",
       "      <td>1.059203</td>\n",
       "      <td>...</td>\n",
       "      <td>10.420048</td>\n",
       "      <td>11.577627</td>\n",
       "      <td>18.070029</td>\n",
       "      <td>18.825891</td>\n",
       "      <td>19.248378</td>\n",
       "      <td>19.539560</td>\n",
       "      <td>19.723312</td>\n",
       "      <td>19.978294</td>\n",
       "      <td>20.052356</td>\n",
       "      <td>20.123709</td>\n",
       "    </tr>\n",
       "    <tr>\n",
       "      <th>2</th>\n",
       "      <td>7770</td>\n",
       "      <td>0.600593</td>\n",
       "      <td>1.127467</td>\n",
       "      <td>1.289813</td>\n",
       "      <td>2.598660</td>\n",
       "      <td>3.826711</td>\n",
       "      <td>4.851020</td>\n",
       "      <td>5.025722</td>\n",
       "      <td>5.262254</td>\n",
       "      <td>5.282915</td>\n",
       "      <td>...</td>\n",
       "      <td>24.635121</td>\n",
       "      <td>25.967167</td>\n",
       "      <td>26.270768</td>\n",
       "      <td>28.028523</td>\n",
       "      <td>29.584844</td>\n",
       "      <td>31.183257</td>\n",
       "      <td>31.218086</td>\n",
       "      <td>31.285777</td>\n",
       "      <td>33.160938</td>\n",
       "      <td>33.360947</td>\n",
       "    </tr>\n",
       "    <tr>\n",
       "      <th>3</th>\n",
       "      <td>7002</td>\n",
       "      <td>0.136037</td>\n",
       "      <td>0.655734</td>\n",
       "      <td>0.992514</td>\n",
       "      <td>1.490964</td>\n",
       "      <td>2.246825</td>\n",
       "      <td>2.855319</td>\n",
       "      <td>3.208054</td>\n",
       "      <td>3.325092</td>\n",
       "      <td>4.202108</td>\n",
       "      <td>...</td>\n",
       "      <td>13.473805</td>\n",
       "      <td>13.688518</td>\n",
       "      <td>14.028203</td>\n",
       "      <td>14.178543</td>\n",
       "      <td>14.783635</td>\n",
       "      <td>15.151632</td>\n",
       "      <td>16.003356</td>\n",
       "      <td>16.282885</td>\n",
       "      <td>17.249543</td>\n",
       "      <td>17.259610</td>\n",
       "    </tr>\n",
       "    <tr>\n",
       "      <th>4</th>\n",
       "      <td>7678</td>\n",
       "      <td>0.200614</td>\n",
       "      <td>0.257171</td>\n",
       "      <td>0.288137</td>\n",
       "      <td>0.314078</td>\n",
       "      <td>0.486903</td>\n",
       "      <td>0.499591</td>\n",
       "      <td>0.534961</td>\n",
       "      <td>0.623986</td>\n",
       "      <td>0.639313</td>\n",
       "      <td>...</td>\n",
       "      <td>11.298341</td>\n",
       "      <td>12.214740</td>\n",
       "      <td>13.072630</td>\n",
       "      <td>13.952573</td>\n",
       "      <td>14.013957</td>\n",
       "      <td>14.476091</td>\n",
       "      <td>14.724149</td>\n",
       "      <td>16.883795</td>\n",
       "      <td>17.052340</td>\n",
       "      <td>19.289922</td>\n",
       "    </tr>\n",
       "  </tbody>\n",
       "</table>\n",
       "<p>5 rows × 51 columns</p>\n",
       "</div>"
      ],
      "text/plain": [
       "    neuron_id  timestamp_0  timestamp_1  timestamp_2  timestamp_3  \\\n",
       "ID                                                                  \n",
       "0          53     0.166262     0.170520     0.176371     0.197565   \n",
       "1        7229     0.053270     0.133652     0.161603     0.530531   \n",
       "2        7770     0.600593     1.127467     1.289813     2.598660   \n",
       "3        7002     0.136037     0.655734     0.992514     1.490964   \n",
       "4        7678     0.200614     0.257171     0.288137     0.314078   \n",
       "\n",
       "    timestamp_4  timestamp_5  timestamp_6  timestamp_7  timestamp_8  \\\n",
       "ID                                                                    \n",
       "0      0.212814     0.957631     1.177679     3.207268     3.213602   \n",
       "1      0.692537     0.730291     0.784066     1.023311     1.059203   \n",
       "2      3.826711     4.851020     5.025722     5.262254     5.282915   \n",
       "3      2.246825     2.855319     3.208054     3.325092     4.202108   \n",
       "4      0.486903     0.499591     0.534961     0.623986     0.639313   \n",
       "\n",
       "        ...       timestamp_40  timestamp_41  timestamp_42  timestamp_43  \\\n",
       "ID      ...                                                                \n",
       "0       ...          14.700766     15.856531     15.906414     15.910547   \n",
       "1       ...          10.420048     11.577627     18.070029     18.825891   \n",
       "2       ...          24.635121     25.967167     26.270768     28.028523   \n",
       "3       ...          13.473805     13.688518     14.028203     14.178543   \n",
       "4       ...          11.298341     12.214740     13.072630     13.952573   \n",
       "\n",
       "    timestamp_44  timestamp_45  timestamp_46  timestamp_47  timestamp_48  \\\n",
       "ID                                                                         \n",
       "0      16.079702     16.516175     16.988851     16.996101     17.019988   \n",
       "1      19.248378     19.539560     19.723312     19.978294     20.052356   \n",
       "2      29.584844     31.183257     31.218086     31.285777     33.160938   \n",
       "3      14.783635     15.151632     16.003356     16.282885     17.249543   \n",
       "4      14.013957     14.476091     14.724149     16.883795     17.052340   \n",
       "\n",
       "    timestamp_49  \n",
       "ID                \n",
       "0      17.056403  \n",
       "1      20.123709  \n",
       "2      33.360947  \n",
       "3      17.259610  \n",
       "4      19.289922  \n",
       "\n",
       "[5 rows x 51 columns]"
      ]
     },
     "execution_count": 3,
     "metadata": {},
     "output_type": "execute_result"
    }
   ],
   "source": [
    "dfx.head()"
   ]
  },
  {
   "cell_type": "code",
   "execution_count": 4,
   "metadata": {},
   "outputs": [
    {
     "data": {
      "text/html": [
       "<div>\n",
       "<style scoped>\n",
       "    .dataframe tbody tr th:only-of-type {\n",
       "        vertical-align: middle;\n",
       "    }\n",
       "\n",
       "    .dataframe tbody tr th {\n",
       "        vertical-align: top;\n",
       "    }\n",
       "\n",
       "    .dataframe thead th {\n",
       "        text-align: right;\n",
       "    }\n",
       "</style>\n",
       "<table border=\"1\" class=\"dataframe\">\n",
       "  <thead>\n",
       "    <tr style=\"text-align: right;\">\n",
       "      <th></th>\n",
       "      <th>TARGET</th>\n",
       "    </tr>\n",
       "    <tr>\n",
       "      <th>ID</th>\n",
       "      <th></th>\n",
       "    </tr>\n",
       "  </thead>\n",
       "  <tbody>\n",
       "    <tr>\n",
       "      <th>0</th>\n",
       "      <td>0</td>\n",
       "    </tr>\n",
       "    <tr>\n",
       "      <th>1</th>\n",
       "      <td>0</td>\n",
       "    </tr>\n",
       "    <tr>\n",
       "      <th>2</th>\n",
       "      <td>0</td>\n",
       "    </tr>\n",
       "    <tr>\n",
       "      <th>3</th>\n",
       "      <td>0</td>\n",
       "    </tr>\n",
       "    <tr>\n",
       "      <th>4</th>\n",
       "      <td>1</td>\n",
       "    </tr>\n",
       "  </tbody>\n",
       "</table>\n",
       "</div>"
      ],
      "text/plain": [
       "    TARGET\n",
       "ID        \n",
       "0        0\n",
       "1        0\n",
       "2        0\n",
       "3        0\n",
       "4        1"
      ]
     },
     "execution_count": 4,
     "metadata": {},
     "output_type": "execute_result"
    }
   ],
   "source": [
    "dfy.head()"
   ]
  },
  {
   "cell_type": "code",
   "execution_count": 5,
   "metadata": {},
   "outputs": [
    {
     "name": "stdout",
     "output_type": "stream",
     "text": [
      "Same number of samples, all good.\n"
     ]
    }
   ],
   "source": [
    "if dfy.shape[0] == dfx.shape[0]:\n",
    "    print(\"Same number of samples, all good.\")\n",
    "else:\n",
    "    print(\"Different number of samples, problem!\")"
   ]
  },
  {
   "cell_type": "markdown",
   "metadata": {},
   "source": [
    "# Data Exploration"
   ]
  },
  {
   "cell_type": "markdown",
   "metadata": {},
   "source": [
    "* **Sanity check:** diff etat1/etat2, neuron_id usefulness"
   ]
  },
  {
   "cell_type": "code",
   "execution_count": 6,
   "metadata": {},
   "outputs": [
    {
     "data": {
      "image/png": "[encoded data removed]",
      "text/plain": [
       "<Figure size 432x288 with 1 Axes>"
      ]
     },
     "metadata": {},
     "output_type": "display_data"
    }
   ],
   "source": [
    "# Différence entre le nombre d'etats 1 et d'etats 0.\n",
    "dfy.TARGET.value_counts().plot(kind='bar')\n",
    "plt.show()"
   ]
  },
  {
   "cell_type": "code",
   "execution_count": 7,
   "metadata": {},
   "outputs": [
    {
     "data": {
      "text/plain": [
       "[8046]"
      ]
     },
     "execution_count": 7,
     "metadata": {},
     "output_type": "execute_result"
    }
   ],
   "source": [
    "# Should we keep the neuron_id col ?\n",
    "xtest_uniques = dfx_test.neuron_id.unique()\n",
    "x_uniques = dfx.neuron_id.unique()\n",
    "diff = [x for x in x_uniques if x in xtest_uniques]\n",
    "diff"
   ]
  },
  {
   "cell_type": "markdown",
   "metadata": {},
   "source": [
    "* **Create Xtrain Ytrain:** numpy array from df, with dimensions *(sample_nb, timestep_nb, feature_nb)*"
   ]
  },
  {
   "cell_type": "code",
   "execution_count": 35,
   "metadata": {},
   "outputs": [
    {
     "data": {
      "text/plain": [
       "array([0, 0, 0, 0, 1])"
      ]
     },
     "execution_count": 35,
     "metadata": {},
     "output_type": "execute_result"
    }
   ],
   "source": [
    "# X: Exclude neuron_id column from array\n",
    "X = dfx.iloc[:,1:].values\n",
    "X = X[..., np.newaxis]\n",
    "\n",
    "# Y: Delete useless dimension \n",
    "Y = dfy.values\n",
    "Y = np.reshape(Y, (Y.shape[0],))\n",
    "#Y = Y.tolist()\n",
    "Y[:5]"
   ]
  },
  {
   "cell_type": "markdown",
   "metadata": {},
   "source": [
    "* **Balance dataset:** Under-sample class2 to have same number of samples in both classes"
   ]
  },
  {
   "cell_type": "code",
   "execution_count": 36,
   "metadata": {},
   "outputs": [
    {
     "name": "stdout",
     "output_type": "stream",
     "text": [
      "[    0     1     2 ... 16631 16633 16634]\n",
      "[3854 9262 9212 ...  820 8074 4282]\n",
      "[ 8699   608 13157 ...  3794 16625  2016]\n"
     ]
    }
   ],
   "source": [
    "# Extract class2 indices from Y\n",
    "Y_class1_ix = np.where(Y == 1)[0]\n",
    "Y_class2_ix = np.where(Y == 0)[0]\n",
    "print(Y_class2_ix)\n",
    "\n",
    "# Under-sample class2 to get balanced classes\n",
    "Y_class2_ix_undersampled = np.random.choice(Y_class2_ix, len(Y_class1_ix))\n",
    "print(Y_class2_ix_undersampled)\n",
    "\n",
    "# Concatenate the undersampled_class2_array and the class1_array\n",
    "balanced_ix = np.concatenate((Y_class1_ix, Y_class2_ix_undersampled), axis=0)\n",
    "np.random.shuffle(balanced_ix)\n",
    "print(balanced_ix)"
   ]
  },
  {
   "cell_type": "code",
   "execution_count": 37,
   "metadata": {},
   "outputs": [],
   "source": [
    "# Create a Xtrain and Xval dataset\n",
    "split = 0.8\n",
    "balanced_ix_train = np.random.choice(balanced_ix, round(split * balanced_ix.shape[0]))\n",
    "balanced_ix_val = [x for x in balanced_ix if x not in balanced_ix_train]\n",
    "X_train = X[balanced_ix_train]\n",
    "Y_train = Y[balanced_ix_train]"
   ]
  },
  {
   "cell_type": "markdown",
   "metadata": {},
   "source": [
    "* **Deprecated:** Concatenate neuron_id to every timestep of a sample "
   ]
  },
  {
   "cell_type": "code",
   "execution_count": 10,
   "metadata": {},
   "outputs": [
    {
     "data": {
      "text/plain": [
       "'\\ntimesteps_arr = dfx.iloc[:,1:].values\\ntimesteps_arr = timesteps_arr[..., np.newaxis]\\ntimesteps_arr.shape\\n\\nneuron_arr = dfx.iloc[:,0].values\\nneuron_arr.shape\\n\\nneuron_arr = np.broadcast_to(neuron_arr[:,None,None], timesteps_arr.shape)\\nfinal_arr = np.concatenate((timesteps_arr,neuron_arr), axis=2)\\nfinal_arr.shape\\n'"
      ]
     },
     "execution_count": 10,
     "metadata": {},
     "output_type": "execute_result"
    }
   ],
   "source": [
    "# TODO : Make a 3d numpy array from our pandas df\n",
    "# Shape = [samples, timestamps, features]\n",
    "\"\"\"\n",
    "timesteps_arr = dfx.iloc[:,1:].values\n",
    "timesteps_arr = timesteps_arr[..., np.newaxis]\n",
    "timesteps_arr.shape\n",
    "\n",
    "neuron_arr = dfx.iloc[:,0].values\n",
    "neuron_arr.shape\n",
    "\n",
    "neuron_arr = np.broadcast_to(neuron_arr[:,None,None], timesteps_arr.shape)\n",
    "final_arr = np.concatenate((timesteps_arr,neuron_arr), axis=2)\n",
    "final_arr.shape\n",
    "\"\"\""
   ]
  },
  {
   "cell_type": "markdown",
   "metadata": {},
   "source": [
    "# Model Training"
   ]
  },
  {
   "cell_type": "markdown",
   "metadata": {},
   "source": [
    "## References"
   ]
  },
  {
   "cell_type": "markdown",
   "metadata": {},
   "source": [
    "* Arxiv: [Neural activity classification with machine learning models trained oninterspike interval series data](https://arxiv.org/pdf/1810.03855.pdf) => PCA and KNN\n",
    "* Github: [PySpike: Python library to analyze spike Train](https://github.com/mariomulansky/PySpike) => Obscure mathematical measurements between spike trains\n",
    "* Profil: [Prof expert en spike train analysis](http://xtof.perso.math.cnrs.fr/)"
   ]
  },
  {
   "cell_type": "markdown",
   "metadata": {},
   "source": [
    "## Code"
   ]
  },
  {
   "cell_type": "markdown",
   "metadata": {},
   "source": [
    "### Deep-Learning 1: blunt RNN"
   ]
  },
  {
   "cell_type": "code",
   "execution_count": 38,
   "metadata": {},
   "outputs": [],
   "source": [
    "timestamp_nb = 50\n",
    "feature_nb = 1\n",
    "\n",
    "input_shape = (timestamp_nb, feature_nb)\n",
    "x = input_tensor = Input(input_shape)\n",
    "x = LSTM(32, return_sequences=False)(x)\n",
    "x = output_tensor = Dense(1)(x)\n",
    "model = Model(input_tensor, output_tensor)"
   ]
  },
  {
   "cell_type": "code",
   "execution_count": 39,
   "metadata": {},
   "outputs": [
    {
     "name": "stdout",
     "output_type": "stream",
     "text": [
      "_________________________________________________________________\n",
      "Layer (type)                 Output Shape              Param #   \n",
      "=================================================================\n",
      "input_1 (InputLayer)         (None, 50, 1)             0         \n",
      "_________________________________________________________________\n",
      "lstm_1 (LSTM)                (None, 32)                4352      \n",
      "_________________________________________________________________\n",
      "dense_1 (Dense)              (None, 1)                 33        \n",
      "=================================================================\n",
      "Total params: 4,385\n",
      "Trainable params: 4,385\n",
      "Non-trainable params: 0\n",
      "_________________________________________________________________\n"
     ]
    }
   ],
   "source": [
    "model.summary()"
   ]
  },
  {
   "cell_type": "code",
   "execution_count": 40,
   "metadata": {},
   "outputs": [
    {
     "name": "stdout",
     "output_type": "stream",
     "text": [
      "Epoch 1/5\n",
      "16635/16635 [==============================] - 53s 3ms/step - loss: 0.1522\n",
      "Epoch 2/5\n",
      "16635/16635 [==============================] - 49s 3ms/step - loss: 0.1460\n",
      "Epoch 3/5\n",
      "16635/16635 [==============================] - 49s 3ms/step - loss: 0.1452\n",
      "Epoch 4/5\n",
      "16635/16635 [==============================] - 47s 3ms/step - loss: 0.1452\n",
      "Epoch 5/5\n",
      "16635/16635 [==============================] - 46s 3ms/step - loss: 0.1448\n"
     ]
    },
    {
     "data": {
      "text/plain": [
       "<keras.callbacks.History at 0x1a3bf5fda0>"
      ]
     },
     "execution_count": 40,
     "metadata": {},
     "output_type": "execute_result"
    }
   ],
   "source": [
    "model.compile(loss='mean_squared_error', optimizer='adam')\n",
    "model.fit(Xtrain, Ytrain, epochs=5)"
   ]
  },
  {
   "cell_type": "markdown",
   "metadata": {},
   "source": [
    "### Domain-knowledge 1: KNN with SPIKE- and ISI- synchronization distances"
   ]
  },
  {
   "cell_type": "code",
   "execution_count": null,
   "metadata": {},
   "outputs": [],
   "source": []
  }
 ],
 "metadata": {
  "kernelspec": {
   "display_name": "Python 3",
   "language": "python",
   "name": "python3"
  },
  "language_info": {
   "codemirror_mode": {
    "name": "ipython",
    "version": 3
   },
   "file_extension": ".py",
   "mimetype": "text/x-python",
   "name": "python",
   "nbconvert_exporter": "python",
   "pygments_lexer": "ipython3",
   "version": "3.6.4"
  }
 },
 "nbformat": 4,
 "nbformat_minor": 2
}
